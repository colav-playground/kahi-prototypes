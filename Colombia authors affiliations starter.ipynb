{
 "cells": [
  {
   "cell_type": "code",
   "execution_count": 4,
   "id": "ae2414c9-8fe2-486f-ad1c-5fd2bb5a57ee",
   "metadata": {},
   "outputs": [],
   "source": [
    "from pymongo import MongoClient\n",
    "from bson.objectid import ObjectId\n",
    "from bson import json_util\n",
    "from time import time\n",
    "import datetime as dt\n",
    "from dateutil.relativedelta import relativedelta\n",
    "import pandas as pd\n",
    "import numpy as np\n",
    "from fuzzywuzzy import fuzz, process\n",
    "import requests\n",
    "from urllib.parse import unquote\n",
    "import unidecode\n",
    "import re\n",
    "import requests\n",
    "from bs4 import BeautifulSoup\n",
    "import json\n",
    "import pickle"
   ]
  },
  {
   "cell_type": "code",
   "execution_count": 5,
   "id": "75d4d4c6-827f-4bce-96be-bb71f9616eae",
   "metadata": {},
   "outputs": [],
   "source": [
    "class JSONEncoder(json.JSONEncoder):\n",
    "    def default(self, o):\n",
    "        if isinstance(o, ObjectId):\n",
    "            return str(o)\n",
    "        return json.JSONEncoder.default(self, o)"
   ]
  },
  {
   "cell_type": "code",
   "execution_count": 6,
   "id": "b5d59229-c20a-494b-8a08-c54625bf224e",
   "metadata": {},
   "outputs": [],
   "source": [
    "def split_names(s,exceptions=['GIL','LEW','LIZ','PAZ','REY','RIO','ROA','RUA','SUS','ZEA']):\n",
    "    \"\"\"\n",
    "    Extract the parts of the full name `s` in the format ([] → optional):\n",
    "    \n",
    "    [SMALL_CONECTORS] FIRST_LAST_NAME [SMALL_CONECTORS] [SECOND_LAST_NAME] NAMES\n",
    "    \n",
    "    * If len(s) == 2 → Foreign name assumed with single last name on it\n",
    "    * If len(s) == 3 → Colombian name assumed two last mames and one first name\n",
    "    \n",
    "    Add short last names to `exceptions` list if necessary\n",
    "    \n",
    "    Works with:\n",
    "    ----\n",
    "        s='LA ROTTA FORERO DANIEL ANDRES'\n",
    "        s='MONTES RAMIREZ MARIA DEL CONSUELO'\n",
    "        s='CALLEJAS POSADA RICARDO DE LA MERCED'\n",
    "        s='DE LA CUESTA BENJUMEA MARIA DEL CARMEN'\n",
    "        s='JARAMILLO OCAMPO NICOLAS CARLOS MARTI'\n",
    "        s='RESTREPO QUINTERO DIEGO ALEJANDRO'\n",
    "        s='RESTREPO ZEA JAIRO HUMBERTO'\n",
    "        s='JIMENEZ DEL RIO MARLEN'        \n",
    "        s='RESTREPO FERNÁNDEZ SARA' # Colombian: two LAST_NAMES NAME\n",
    "        s='NARDI ENRICO' # Foreing\n",
    "    Fails:\n",
    "    ----\n",
    "        s='RANGEL MARTINEZ VILLAL ANDRES MAURICIO' # more than 2 last names\n",
    "        s='ROMANO ANTONIO ENEA' # Foreing → LAST_NAME NAMES\n",
    "    \"\"\"\n",
    "    s=s.title()\n",
    "    exceptions=[e.title() for e in exceptions]\n",
    "    sl=re.sub('(\\s\\w{1,3})\\s',r'\\1-',s,re.UNICODE)\n",
    "    sl=re.sub('(\\s\\w{1,3}\\-\\w{1,3})\\s',r'\\1-',sl,re.UNICODE)\n",
    "    sl=re.sub('^(\\w{1,3})\\s',r'\\1-' ,sl,re.UNICODE)\n",
    "    #Clean exceptions\n",
    "    #Extract short names list\n",
    "    lst=[s for s in re.split( '(\\w{1,3})\\-',sl ) if len(s)>=1 and len(s)<=3 ]\n",
    "    #intersection with exceptions list\n",
    "    exc=[value for value in exceptions if value in lst]\n",
    "    if exc:\n",
    "        for e in exc:\n",
    "            sl=sl.replace('{}-'.format(e),'{} '.format(e))\n",
    "            \n",
    "    #if sl.find('-')>-1:\n",
    "    #print(sl)\n",
    "    sll=[s.replace('-',' ') for s in sl.split()]\n",
    "    if len(s.split())==2:\n",
    "        sll=[s.split()[0]]+['']+[s.split()[1]]\n",
    "    #\n",
    "    d={'NOMBRE COMPLETO' : ' '.join(sll[2:]+sll[:2]),\n",
    "     'PRIMER APELLIDO' : sll[0], \n",
    "     'SEGUNDO APELLIDO': sll[1], \n",
    "     'NOMBRES'         :' '.join(sll[2:]), \n",
    "     'INICIALES'       :' '.join( [i[0]+'.' for i in ' '.join(sll[2:]).split() ] )\n",
    "    }\n",
    "    return d"
   ]
  },
  {
   "cell_type": "code",
   "execution_count": 7,
   "id": "451aa73c-6b91-4b96-b9f4-87f4a07f150c",
   "metadata": {},
   "outputs": [],
   "source": [
    "# Mise à jour des noms dans différentes langues via wikipedia\n",
    "def get_wikipedia_names(url=\"\",name=\"\",lang=\"en\",verbose=0):\n",
    "    '''\n",
    "    Find the different possible names of a wikipedia entity.\n",
    "    Right now it is only tested on organizations gotten from ror db\n",
    "    \n",
    "    Parameters\n",
    "    ----------\n",
    "    url : str\n",
    "        The wikipedia url if is available\n",
    "    name : str\n",
    "        The name of keywords to do the search over wikipedia api\n",
    "    lang : str\n",
    "        The iso-639 lang code to fix the language endpooint of the search language\n",
    "        \n",
    "    Returns\n",
    "    -------\n",
    "    data : dict\n",
    "        The response of the wikipedia requests with the langlinks of the prop params\n",
    "        \n",
    "    '''\n",
    "    if url:\n",
    "        subject = unquote(url.split(\"/\")[-1].replace(\"_\",\" \"))\n",
    "    elif name:\n",
    "        subject = name\n",
    "    else:\n",
    "        return {\"response\":[],\"names\":[]}\n",
    "    \n",
    "    base = 'https://'+lang+'.wikipedia.org/w/api.php'\n",
    "    #searching entire wikipedia\n",
    "    if verbose>5:\n",
    "        print(\"Searching \",subject)\n",
    "    params = {\n",
    "            'action':'query',\n",
    "            'format':'json',\n",
    "            'list':'search',\n",
    "            'srsearch':subject\n",
    "        }\n",
    " \n",
    "    data = requests.get(base, params=params).json()\n",
    "    #print(data)\n",
    "    entry=\"\"\n",
    "    pageid=\"\"\n",
    "    if not \"query\" in data.keys():\n",
    "        return None\n",
    "    for reg in data[\"query\"][\"search\"]: #searching among the results and checking twice with fuzzywuzzy\n",
    "        score=fuzz.ratio(reg[\"title\"].lower(),subject.lower())\n",
    "        if score>90:\n",
    "            entry=reg\n",
    "            pageid=int(reg[\"pageid\"])\n",
    "        elif score>50:\n",
    "            score=fuzz.partial_ratio(reg[\"title\"].lower(),subject.lower())\n",
    "            if score>95:\n",
    "                entry=reg\n",
    "                pageid=int(reg[\"pageid\"])\n",
    "            elif score>80:\n",
    "                score=fuzz.token_set_ratio(reg[\"title\"].lower(),subject.lower())\n",
    "                if score>98:\n",
    "                    entry=reg\n",
    "                    pageid=int(reg[\"pageid\"])\n",
    "        if entry!=\"\":\n",
    "            break\n",
    "\n",
    "    if pageid!=\"\": #if the page id is available\n",
    "        #retrieving the actual page's langlinks \n",
    "        params = {\n",
    "                'action': 'query',\n",
    "                'format': 'json',\n",
    "                'pageids': pageid,\n",
    "                'prop': 'langlinks',\n",
    "                'lllimit':500,\n",
    "                #'exintro': True,\n",
    "                #'explaintext': True,\n",
    "            }\n",
    "\n",
    "        response = requests.get(base, params=params)\n",
    "        data = response.json()\n",
    "        return data\n",
    "    else:\n",
    "        return None"
   ]
  },
  {
   "cell_type": "code",
   "execution_count": 8,
   "id": "5f33c72b-2e63-4eb6-b796-ef90de667eaa",
   "metadata": {},
   "outputs": [],
   "source": [
    "client=MongoClient()\n",
    "colombia=client[\"colombia_udea\"]\n",
    "openalex=client[\"openalex\"]\n",
    "ror=client[\"ror\"]"
   ]
  },
  {
   "cell_type": "code",
   "execution_count": 9,
   "id": "0eb9ae0a-5e47-41a2-b4e2-0678c066c4c7",
   "metadata": {},
   "outputs": [],
   "source": [
    "def empty_affiliations():\n",
    "    entry = {\n",
    "        \"updated\":[],\n",
    "        \"names\":[],\n",
    "        \"aliases\":[],\n",
    "        \"abbreviations\":[],\n",
    "        \"types\":[],\n",
    "        \"year_established\":-1,\n",
    "        \"status\":[],\n",
    "        \"relations\":[],\n",
    "        \"addresses\":[],\n",
    "        \"external_urls\":[],\n",
    "        \"external_ids\":[],\n",
    "        \"subjects\":[],\n",
    "        \"ranking\":[],\n",
    "        \"description\":[]\n",
    "    }\n",
    "    return entry"
   ]
  },
  {
   "cell_type": "markdown",
   "id": "d786ea15-9a6d-41d3-8917-f0c9f907188c",
   "metadata": {},
   "source": [
    "### Inserting ROR"
   ]
  },
  {
   "cell_type": "code",
   "execution_count": 23,
   "id": "b32e1ca8-917b-4a6e-ae66-73c8aab11db7",
   "metadata": {},
   "outputs": [
    {
     "name": "stdout",
     "output_type": "stream",
     "text": [
      "102993 0 0\n",
      "45.9 s ± 0 ns per loop (mean ± std. dev. of 1 run, 1 loop each)\n"
     ]
    }
   ],
   "source": [
    "%%timeit -n 1 -r 1\n",
    "already_indb=0\n",
    "inserted=0\n",
    "updated=0\n",
    "for inst in ror[\"stage\"].find():\n",
    "    #print(inst)\n",
    "    found_entry=colombia[\"affiliations\"].find_one({\"external_ids.id\":inst[\"id\"]})\n",
    "    if found_entry:\n",
    "        #print(\"Found {} in the database with id {}\".format(found_entry[\"names\"],found_entry[\"_id\"]))\n",
    "        already_indb+=1\n",
    "        continue\n",
    "    entry=empty_affiliations()\n",
    "    \n",
    "    entry[\"updated\"].append({\"time\":int(time()),\"source\":\"ror\"})\n",
    "    entry[\"names\"].append({\"name\":inst[\"name\"],\"lang\":\"en\"})\n",
    "    entry[\"aliases\"].extend(inst[\"aliases\"])\n",
    "    entry[\"abbreviations\"].extend(inst[\"acronyms\"])\n",
    "    entry[\"year_established\"]=int(inst[\"established\"]) if inst[\"established\"] else -1\n",
    "    entry[\"status\"]=[inst[\"status\"]]\n",
    "    \n",
    "    for typ in inst[\"types\"]:\n",
    "        entry[\"types\"].append({\"source\":\"ror\",\"type\":typ})\n",
    "\n",
    "    for add in inst[\"addresses\"]:\n",
    "        add_entry={\n",
    "            \"lat\":add[\"lat\"],\n",
    "            \"lng\":add[\"lng\"],\n",
    "            \"postcode\":add[\"postcode\"] if add[\"postcode\"] else \"\",\n",
    "            \"state\":add[\"state\"],\n",
    "            \"city\":add[\"city\"],\n",
    "            \"country\":\"\",\n",
    "            \"country_code\":\"\",\n",
    "        }\n",
    "        entry[\"addresses\"].append(add_entry)\n",
    "    \n",
    "    #external_urls\n",
    "    if inst[\"links\"]:\n",
    "        for link in inst[\"links\"]:\n",
    "            url_entry={\"source\":\"site\",\"url\":inst[\"links\"][0]}\n",
    "            if not url_entry in entry[\"external_urls\"]:\n",
    "                entry[\"external_urls\"].append(url_entry)\n",
    "    #country\n",
    "    entry[\"addresses\"][0][\"country\"]=inst[\"country\"][\"country_name\"]\n",
    "    entry[\"addresses\"][0][\"country_code\"]=inst[\"country\"][\"country_code\"]\n",
    "    #external_ids\n",
    "    if inst[\"external_ids\"]:\n",
    "        for key,ext in inst[\"external_ids\"].items():\n",
    "            if isinstance(ext[\"all\"],list):\n",
    "                alll=ext[\"all\"][0] if len(ext[\"all\"])>0 else ext[\"all\"]\n",
    "                ext_entry={\"source\":key.lower(),\"id\":alll}\n",
    "                if not ext_entry in entry[\"external_ids\"]:\n",
    "                    entry[\"external_ids\"].append(ext_entry)\n",
    "    entry[\"external_ids\"].append({\"source\":\"ror\",\"id\":inst[\"id\"]})\n",
    "    if inst[\"wikipedia_url\"]:\n",
    "        entry[\"external_urls\"].append({\"source\":\"wikipedia\",\"url\":inst[\"wikipedia_url\"]}) \n",
    "    colombia[\"affiliations\"].insert_one(entry)\n",
    "    inserted+=1\n",
    "    \n",
    "print(inserted,already_indb,updated)"
   ]
  },
  {
   "cell_type": "code",
   "execution_count": 47,
   "id": "fc62d50c-f595-464e-9304-6e6ca15a2a0d",
   "metadata": {},
   "outputs": [
    {
     "name": "stderr",
     "output_type": "stream",
     "text": [
      "/usr/local/lib/python3.8/dist-packages/pymongo/collection.py:1643: UserWarning: use an explicit session with no_cursor_timeout=True otherwise the cursor may still timeout after 30 minutes, for more info see https://mongodb.com/docs/v4.4/reference/method/cursor.noCursorTimeout/#session-idle-timeout-overrides-nocursortimeout\n",
      "  return Cursor(self, *args, **kwargs)\n"
     ]
    }
   ],
   "source": [
    "#fixing status ONLY IF THEY ARE NOT A LIST\n",
    "#for inst in colombia[\"affiliations\"].find({\"status\":{\"$ne\":[]}},no_cursor_timeout=True):\n",
    "#    status=inst[\"status\"]\n",
    "#    colombia[\"affiliations\"].update_one({\"_id\":inst[\"_id\"]},{\"$set\":{\"status\":[{\"source\":\"ror\",\"status\":status}]}})"
   ]
  },
  {
   "cell_type": "code",
   "execution_count": 24,
   "id": "9c7820f2-7af5-482b-a1a3-8e797aac8b08",
   "metadata": {},
   "outputs": [],
   "source": [
    "wikipedialess=[]\n",
    "wrong=[]\n",
    "successful=0"
   ]
  },
  {
   "cell_type": "code",
   "execution_count": null,
   "id": "809ebb4c-2447-4cb1-adc0-f8ab9cc94388",
   "metadata": {},
   "outputs": [],
   "source": [
    "with client.start_session() as session:\n",
    "    old=dt.datetime.now()\n",
    "    for inst in colombia[\"affiliations\"].find(no_cursor_timeout=True):\n",
    "        if len(inst[\"names\"])>1 or inst[\"_id\"] in wrong or inst[\"_id\"] in wikipedialess:\n",
    "            continue\n",
    "        wikipedia_url=\"\"\n",
    "        wikipedia_name=\"\"\n",
    "        for ext in inst[\"external_urls\"]:\n",
    "            if ext[\"source\"]==\"wikipedia\":\n",
    "                wikipedia_url=ext[\"url\"]\n",
    "                break\n",
    "        if not wikipedia_url:\n",
    "            #print(\"Could not find wikipedia url for {} with id {}\".format(inst[\"names\"][0][\"name\"],inst[\"_id\"]))\n",
    "            wikipedialess.append(inst[\"_id\"])\n",
    "            wikipedia_name=inst[\"names\"][0][\"name\"]\n",
    "        if wikipedia_url:\n",
    "            if not \"wiki\" in wikipedia_url:\n",
    "                continue\n",
    "            #print(\"Processing \",wikipedia_url)\n",
    "        elif wikipedia_name:\n",
    "            pass\n",
    "            #print(\"Processing \",wikipedia_name)\n",
    "        else:\n",
    "            print(\"No information could be used for wikipedia API query in \",inst[\"_id\"])\n",
    "            continue\n",
    "        result={}\n",
    "        res=[]\n",
    "        if wikipedia_url:\n",
    "            res=get_wikipedia_names(url=wikipedia_url)\n",
    "        elif wikipedia_name:\n",
    "            res=get_wikipedia_names(name=wikipedia_name)\n",
    "        try:\n",
    "            k=list(res[\"query\"][\"pages\"].keys())[0]\n",
    "            result={\"response\":res,\"names\":res[\"query\"][\"pages\"][k][\"langlinks\"]}\n",
    "\n",
    "        except Exception as e:\n",
    "            if wikipedia_url:\n",
    "                print(\"Something went wrong processing \",wikipedia_url)\n",
    "            elif wikipedia_name:\n",
    "                print(\"Something went wrong processing \",wikipedia_name)\n",
    "            result={\"response\":res,\"names\":[]}\n",
    "            #print(e)\n",
    "            #print(res)\n",
    "            #print(\"Trying spanish api\")\n",
    "            if wikipedia_url:\n",
    "                res=get_wikipedia_names(url=wikipedia_url,lang=\"es\")\n",
    "            elif wikipedia_name:\n",
    "                res=get_wikipedia_names(name=wikipedia_name,lang=\"es\")\n",
    "            try:\n",
    "                k=list(res[\"query\"][\"pages\"].keys())[0]\n",
    "                result={\"response\":res,\"names\":res[\"query\"][\"pages\"][k][\"langlinks\"]}\n",
    "\n",
    "            except Exception as e:\n",
    "                if wikipedia_url:\n",
    "                    print(\"Something went wrong processing \",wikipedia_url)\n",
    "                elif wikipedia_name:\n",
    "                    print(\"Something went wrong processing \",wikipedia_name)\n",
    "                result={\"response\":res,\"names\":[]}\n",
    "                print(e)\n",
    "                print(res)\n",
    "                print(\"-------------------------\")\n",
    "\n",
    "        #print(result)\n",
    "        if not result[\"names\"]:\n",
    "            #print(\"Could not get names from \\n\\t\",res)\n",
    "            wrong.append(inst[\"_id\"])\n",
    "            continue\n",
    "        else:\n",
    "            successful+=1\n",
    "            #print(result[\"names\"])\n",
    "            names=inst[\"names\"]\n",
    "            for nam in result[\"names\"]:\n",
    "                if nam[\"lang\"]!=\"en\":\n",
    "                    names.append({\"name\":nam[\"*\"],\"lang\":nam[\"lang\"]})\n",
    "            #print(names)\n",
    "            colombia[\"affiliations\"].update_one({\"_id\":inst[\"_id\"]},{\"$set\":{\"names\":names}})\n",
    "            #print(colombia[\"affiliations\"].count_documents({}),len(wrong),len(wikipedialess),successful)\n",
    "        delta=dt.datetime.now()-old\n",
    "        if delta.seconds>240:\n",
    "            print(colombia[\"affiliations\"].count_documents({}),len(wrong),len(wikipedialess),successful)\n",
    "            client.admin.command('refreshSessions', [session.session_id], session=session)\n",
    "            old=dt.datetime.now()\n",
    "print(colombia[\"affiliations\"].count_documents({}),len(wrong),len(wikipedialess),successful)"
   ]
  },
  {
   "cell_type": "code",
   "execution_count": 175,
   "id": "5df8109e-1b0c-45c5-a23c-58e5cd14f3ae",
   "metadata": {},
   "outputs": [
    {
     "name": "stdout",
     "output_type": "stream",
     "text": [
      "24.4 s ± 0 ns per loop (mean ± std. dev. of 1 run, 1 loop each)\n"
     ]
    }
   ],
   "source": [
    "%%timeit -n 1 -r 1\n",
    "updated=0\n",
    "#Pour mettre à jour l'entrée des relations, nous devons itérer à nouveau dans la collection\n",
    "for inst in ror[\"stage\"].find({\"relationships\":{\"$ne\":[]}}):\n",
    "    rel_entry=[]\n",
    "    updatable_entry=colombia[\"affiliations\"].find_one({\"external_ids.id\":inst[\"id\"]})\n",
    "    if not updatable_entry:\n",
    "        print(\"Could not find institution with id \",inst[\"id\"])\n",
    "        continue\n",
    "    for rel in inst[\"relationships\"]:\n",
    "        db_entry=colombia[\"affiliations\"].find_one({\"external_ids.id\":rel[\"id\"]})\n",
    "        if db_entry:\n",
    "            re_sub={\"id\":db_entry[\"_id\"],\"name\":db_entry[\"names\"],\"types\":db_entry[\"types\"]}\n",
    "            if not re_sub in rel_entry:\n",
    "                rel_entry.append(re_sub)\n",
    "        else:\n",
    "            print(\"Could not find relation with the ror id \",rel[\"id\"])\n",
    "    colombia[\"affiliations\"].update_one({\"_id\":updatable_entry[\"_id\"]},{\"$set\":{\"relations\":rel_entry}})\n",
    "    updated+=1\n",
    "int(updated)\n",
    "#print(inserted,already_indb,updated)"
   ]
  },
  {
   "cell_type": "code",
   "execution_count": null,
   "id": "4fc12d41-a9a7-48ab-bed6-bf4c7159e6c8",
   "metadata": {},
   "outputs": [],
   "source": [
    "udea_reg=colombia[\"affiliations\"].find_one({\"names.name\":\"University of Antioquia\"})\n",
    "udea_reg"
   ]
  },
  {
   "cell_type": "markdown",
   "id": "c98fec9d-89ce-4e70-b7eb-63f14ce08cc0",
   "metadata": {},
   "source": [
    "#### Creating indexes"
   ]
  },
  {
   "cell_type": "code",
   "execution_count": null,
   "id": "f68832ac-3985-4731-ac69-fb877733342d",
   "metadata": {},
   "outputs": [],
   "source": [
    "colombia[\"affiliations\"].create_index({\"names.name\":\"text\"})"
   ]
  },
  {
   "cell_type": "markdown",
   "id": "07ab3233-6823-4261-b98c-a3060dd7cb84",
   "metadata": {},
   "source": [
    "### Inserting Faculties and departments from \"Talento Humano UDEA\""
   ]
  },
  {
   "cell_type": "code",
   "execution_count": 11,
   "id": "e11e1e6a-ff9f-44fd-a59b-56f35bef7c88",
   "metadata": {},
   "outputs": [],
   "source": [
    "th = pd.read_excel(\"/current/data/colombia/udea/Base de Datos profesores 2019_con_clasificación de Colciencias.xlsx\",\n",
    "                   dtype={\"cedula\":str,\"codfac\":str,\"ccosto\":str,\"fecha_nac\":str,\"fecha_vin\":str})\n",
    "th[\"cedula\"]=[cc.split(\".\")[0] for cc in th[\"cedula\"]]"
   ]
  },
  {
   "cell_type": "code",
   "execution_count": 12,
   "id": "70c9fa18-c5e3-4005-bd81-bb358c0a774f",
   "metadata": {},
   "outputs": [
    {
     "data": {
      "text/plain": [
       "(array(['Artes', 'Exactas', 'Sociales', 'Odontología', 'Derecho',\n",
       "        'Est. Políticos', 'Comunicaciones', 'Educación', 'Idiomas',\n",
       "        'Filosofía', 'Económicas', 'Ingeniería', 'Medicina',\n",
       "        'Farmacéuticas', 'Microbiología', 'Salud Pública', 'Agrarias',\n",
       "        'Bibliotecología', 'Enfermería', 'Educación Física', 'Nutrición ',\n",
       "        'Corp Ambiental', 'Est. Regionales', 'Regionalización',\n",
       "        'Vic Docencia'], dtype=object),\n",
       " 25)"
      ]
     },
     "execution_count": 12,
     "metadata": {},
     "output_type": "execute_result"
    }
   ],
   "source": [
    "th[\"Nombre fac\"].unique(),len(th[\"Nombre fac\"].unique())"
   ]
  },
  {
   "cell_type": "code",
   "execution_count": 13,
   "id": "c8135e9a-7fc8-4d30-80c3-f624ad7e0a68",
   "metadata": {},
   "outputs": [
    {
     "data": {
      "text/plain": [
       "1983"
      ]
     },
     "execution_count": 13,
     "metadata": {},
     "output_type": "execute_result"
    }
   ],
   "source": [
    "len(th)"
   ]
  },
  {
   "cell_type": "code",
   "execution_count": 176,
   "id": "e887c33c-e959-4702-9571-2013a691e1d9",
   "metadata": {},
   "outputs": [],
   "source": [
    "facs_inserted={}\n",
    "deps_inserted={}\n",
    "\n",
    "cedula_fac={}\n",
    "cedula_dep={}\n",
    "fac_dep_pair=[]\n"
   ]
  },
  {
   "cell_type": "code",
   "execution_count": 177,
   "id": "98e9b1fd-622c-46c4-aa7b-6a9f4c06050f",
   "metadata": {},
   "outputs": [],
   "source": [
    "for idx, reg in th.iterrows():\n",
    "    reg[\"Nombre fac\"]=reg[\"Nombre fac\"].strip()\n",
    "    if reg[\"Nombre fac\"]=='Vic Docencia':\n",
    "        reg[\"Nombre fac\"]=\"Vicerrectoría de Docencia\"\n",
    "    if reg[\"Nombre fac\"]==\"Exactas\":\n",
    "        reg[\"Nombre fac\"]=\"Facultad de Ciencias Exactas y Naturales\"\n",
    "    if reg[\"Nombre fac\"]==\"Sociales\":\n",
    "        reg[\"Nombre fac\"]=\"Facultad de Ciencias Sociales y Humanas\"\n",
    "    if reg[\"Nombre fac\"]==\"Derecho\":\n",
    "        reg[\"Nombre fac\"]=\"Facultad de Derecho y Ciencias Políticas\"\n",
    "    if reg[\"Nombre fac\"]==\"Agrarias\":\n",
    "        reg[\"Nombre fac\"]=\"Facultad de Ciencias Agrarias\"\n",
    "    if reg[\"Nombre fac\"]==\"Est. Políticos\":\n",
    "        reg[\"Nombre fac\"]=\"Institutio de Estudios Políticos\"\n",
    "    if reg[\"Nombre fac\"]==\"Artes\":\n",
    "        reg[\"Nombre fac\"]=\"Facultad de Artes\"\n",
    "    if reg[\"Nombre fac\"]==\"Odontología\":\n",
    "        reg[\"Nombre fac\"]=\"Facultad de Odontología\"\n",
    "    if reg[\"Nombre fac\"]==\"Comunicaciones\":\n",
    "        reg[\"Nombre fac\"]=\"Facultad de Comunicaciones y Filología\"\n",
    "    if reg[\"Nombre fac\"]==\"Educación\":\n",
    "        reg[\"Nombre fac\"]=\"Facultad de Educación\"\n",
    "    if reg[\"Nombre fac\"]==\"Idiomas\":\n",
    "        reg[\"Nombre fac\"]=\"Escuela de Idiomas\"\n",
    "    if reg[\"Nombre fac\"]==\"Filosofía\":\n",
    "        reg[\"Nombre fac\"]=\"Instituto de Filosofía\"\n",
    "    if reg[\"Nombre fac\"]==\"Económicas\":\n",
    "        reg[\"Nombre fac\"]=\"Facultad de Ciencias Económicas\"\n",
    "    if reg[\"Nombre fac\"]==\"Ingeniería\":\n",
    "        reg[\"Nombre fac\"]=\"Facultad de Ingeniería\"\n",
    "    if reg[\"Nombre fac\"]==\"Medicina\":\n",
    "        reg[\"Nombre fac\"]=\"Facultad de Medicina\"\n",
    "    if reg[\"Nombre fac\"]==\"Farmacéuticas\":\n",
    "        reg[\"Nombre fac\"]=\"Facultad de Ciencias Farmacéuticas y Alimentarias\"\n",
    "    if reg[\"Nombre fac\"]==\"Microbiología\":\n",
    "        reg[\"Nombre fac\"]=\"Escuela de Microbiología\"\n",
    "    if reg[\"Nombre fac\"]==\"Salud Pública\":\n",
    "        reg[\"Nombre fac\"]=\"Facultad de Salud Pública\"\n",
    "    if reg[\"Nombre fac\"]==\"Agrarias\":\n",
    "        reg[\"Nombre fac\"]=\"Facultad de Ciecias Agrarias\"\n",
    "    if reg[\"Nombre fac\"]==\"Bibliotecología\":\n",
    "        reg[\"Nombre fac\"]=\"Escuela Interamericana de Bibliotecología\"\n",
    "    if reg[\"Nombre fac\"]==\"Enfermería\":\n",
    "        reg[\"Nombre fac\"]=\"Facultad de Enfermería\"\n",
    "    if reg[\"Nombre fac\"]==\"Educación Física\":\n",
    "        reg[\"Nombre fac\"]=\"Instituto Universitario de Educación Física y Deporte\"\n",
    "    if reg[\"Nombre fac\"]==\"Nutrición\":\n",
    "        reg[\"Nombre fac\"]=\"Escuela de Nutrición y Dietética\"\n",
    "    if reg[\"Nombre fac\"]==\"Corp Ambiental\":\n",
    "        reg[\"Nombre fac\"]=\"Corporación Ambiental\"\n",
    "    if reg[\"Nombre fac\"]==\"Est. Regionales\":\n",
    "        reg[\"Nombre fac\"]=\"Instituto de Estudios Regionales\"\n",
    "        \n",
    "    if not reg[\"Nombre fac\"] in facs_inserted.keys():     \n",
    "        entry=empty_affiliations()\n",
    "        entry[\"updated\"].append({\"time\":int(time()),\"source\":\"staff\"})\n",
    "        entry[\"names\"].append({\"name\":reg[\"Nombre fac\"],\"lang\":\"es\"})\n",
    "        entry[\"types\"].append({\"source\":\"staff\",\"type\":\"faculty\"})\n",
    "        entry[\"relations\"].append({\"id\":udea_reg[\"_id\"],\"names\":udea_reg[\"names\"]})\n",
    "        \n",
    "        response=colombia[\"affiliations\"].insert_one(entry)\n",
    "        facs_inserted[reg[\"Nombre fac\"]]=response.inserted_id\n",
    "    cedula_fac[reg[\"cedula\"]]=reg[\"Nombre fac\"]\n",
    "    if not reg[\"Nombre cencos\"] in deps_inserted.keys():\n",
    "        entry=empty_affiliations()\n",
    "        entry[\"updated\"].append({\"time\":int(time()),\"source\":\"staff\"})\n",
    "        entry[\"names\"].append({\"name\":reg[\"Nombre cencos\"],\"lang\":\"es\"})\n",
    "        entry[\"types\"].append({\"source\":\"staff\",\"type\":\"department\"})\n",
    "        entry[\"relations\"].append({\"id\":udea_reg[\"_id\"],\"names\":udea_reg[\"names\"]})\n",
    "        \n",
    "        response=colombia[\"affiliations\"].insert_one(entry)\n",
    "        deps_inserted[reg[\"Nombre cencos\"]]=response.inserted_id\n",
    "    cedula_dep[reg[\"cedula\"]]=reg[\"Nombre cencos\"]\n",
    "    if not (reg[\"Nombre fac\"],reg[\"Nombre cencos\"]) in fac_dep_pair:\n",
    "        fac_dep_pair.append((reg[\"Nombre fac\"],reg[\"Nombre cencos\"]))"
   ]
  },
  {
   "cell_type": "code",
   "execution_count": 178,
   "id": "0f05070a-d70b-484b-a981-c3a975c08108",
   "metadata": {},
   "outputs": [],
   "source": [
    "#updating relations between faculties and departments\n",
    "for fac,dep in fac_dep_pair:\n",
    "    fac_id=facs_inserted[fac]\n",
    "    dep_id=deps_inserted[dep]\n",
    "    dep_reg=colombia[\"affiliations\"].find_one({\"_id\":ObjectId(dep_id)})\n",
    "    fac_reg=colombia[\"affiliations\"].find_one({\"_id\":ObjectId(fac_id)})\n",
    "    colombia[\"affiliations\"].update_one({\"_id\":fac_reg[\"_id\"]},\n",
    "                                        {\"$push\":{\n",
    "                                            \"relations\":{\n",
    "                                                \"id\":dep_reg[\"_id\"],\n",
    "                                                \"names\":dep_reg[\"names\"],\"types\":dep_reg[\"types\"]}}})\n",
    "    colombia[\"affiliations\"].update_one({\"_id\":dep_reg[\"_id\"]},\n",
    "                                        {\"$push\":{\n",
    "                                            \"relations\":{\n",
    "                                                \"id\":fac_reg[\"_id\"],\n",
    "                                                \"names\":fac_reg[\"names\"],\"types\":fac_reg[\"types\"]}}})"
   ]
  },
  {
   "cell_type": "code",
   "execution_count": 44,
   "id": "8e2f68d3-fefa-4b45-b6b3-231b8aa19df0",
   "metadata": {},
   "outputs": [
    {
     "data": {
      "text/plain": [
       "1979"
      ]
     },
     "execution_count": 44,
     "metadata": {},
     "output_type": "execute_result"
    }
   ],
   "source": [
    "len(cedula_fac.keys())"
   ]
  },
  {
   "cell_type": "code",
   "execution_count": 14,
   "id": "e8320153-6b68-40b2-a14f-f2acbfcf82c7",
   "metadata": {},
   "outputs": [],
   "source": [
    "scienti=client[\"scienti_111\"][\"products\"] "
   ]
  },
  {
   "cell_type": "markdown",
   "id": "1a1d8803-3f53-4938-8fbb-f99c9e2f61ef",
   "metadata": {},
   "source": [
    "### updating institutions from scienti"
   ]
  },
  {
   "cell_type": "code",
   "execution_count": 179,
   "id": "ac329005-c754-445a-ab66-9f6a600fe2f9",
   "metadata": {},
   "outputs": [],
   "source": [
    "inst_updated=[]"
   ]
  },
  {
   "cell_type": "code",
   "execution_count": 101,
   "id": "8266d036-024a-4846-a10f-8c42aff1531f",
   "metadata": {},
   "outputs": [
    {
     "data": {
      "text/plain": [
       "99"
      ]
     },
     "execution_count": 101,
     "metadata": {},
     "output_type": "execute_result"
    }
   ],
   "source": [
    "fuzz.ratio(\"UNIVERSIDAD  INDUSTRIAL DE SANTANDER\".lower(),\"Universidad Industrial de Santander\".lower())"
   ]
  },
  {
   "cell_type": "code",
   "execution_count": null,
   "id": "1d32168b-784c-438d-9a56-e14caa5b220d",
   "metadata": {},
   "outputs": [],
   "source": [
    "count=0\n",
    "for cod_inst in scienti.distinct(\"group.institution.TXT_NIT\"):\n",
    "    if cod_inst in inst_updated:\n",
    "        continue\n",
    "    #inst=inst[\"group\"][0][\"institution\"][0]\n",
    "    reg_scienti=scienti.find_one({\"group.institution.TXT_NIT\":cod_inst})\n",
    "    for inst in reg_scienti[\"group\"][0][\"institution\"]:\n",
    "        if inst[\"TXT_NIT\"] in inst_updated:\n",
    "            continue\n",
    "        token=inst[\"NME_INST\"]\n",
    "        stopwords=[\"y\",\"and\",\"de\",\"la\",\"los\",\"las\",\"el\",\"o\",\"or\",\"un\",\"una\",\"uno\",\"en\",\"por\",\"para\",\"según\",\"a\",\"ante\",\n",
    "          \"con\",\"de\",\"sin\",\"so\",\"tras\",\"e\",\"u\",\"del\",\"and\",\"or\",\"from\",\"to\",\"after\",\"about\",\"by\",\"in\",\"out\",\"next\",\n",
    "          \"under\",\"our\",\"your\",\"yours\",\"them\",\"their\",\"my\",\"it\",\"we\",\"have\",\"had\",\"be\",\"do\",\"are\",\"him\",\"her\",\"hers\",\"his\",\n",
    "          \"then\",\"where\",\"why\",\"how\",\"what\",\"which\",\"who\",\"whom\",\"all\",\"any\",\"both\",\"each\",\"few\",\"at\",\"this\",\"these\",\"those\",\n",
    "          \"that\",\"if\",\"as\",\"with\",\"while\",\"against\",\"about\",\"here\",\"there\",\"off\",\"of\",\"-\"]\n",
    "        inst_name=\" \".join([w for w in token.lower().split() if w not in stopwords])\n",
    "        inst_name=inst_name.replace(\"universidad\",\"\").replace(\"institución universitaria\",\"\").replace(\"industrial\",\"\")\n",
    "        inst_name=inst_name.replace(\"corporación\",\"\").replace(\"fundación\",\"\").replace(\"instituto\",\"\").strip()\n",
    "        col_list=colombia[\"affiliations\"].find({\"$text\":{\"$search\":inst_name}}).limit(30)\n",
    "        reg_col=None\n",
    "        name=None\n",
    "        highest_score=0\n",
    "        highest_name=None\n",
    "        if \"colciencias\" in inst_name:\n",
    "            reg_col=colombia[\"affiliations\"].find_one({\"_id\" : ObjectId(\"637feecb71459ce0bcb7ec6c\")})\n",
    "            name=reg_col[\"names\"][0][\"name\"]\n",
    "        if inst[\"NME_INST\"]==\"UNIVERSIDAD CATOLICA DE ORIENTE\":\n",
    "            reg_col=colombia[\"affiliations\"].find_one({\"_id\" : ObjectId(\"637feecf71459ce0bcb80944\")})\n",
    "            name=reg_col[\"names\"][0][\"name\"]\n",
    "        if not reg_col:\n",
    "            for reg in col_list:\n",
    "                for name in reg[\"names\"]:\n",
    "                    if inst[\"NME_INST\"].lower()==name[\"name\"].lower():\n",
    "                        name=name[\"name\"]\n",
    "                        reg_col=reg\n",
    "                        break\n",
    "                if reg_col:\n",
    "                    break\n",
    "                for name in reg[\"names\"]:\n",
    "                    score=fuzz.ratio(inst[\"NME_INST\"].lower(),name[\"name\"].lower())\n",
    "                    if score>90:\n",
    "                        name=name[\"name\"]\n",
    "                        reg_col=reg\n",
    "                        break\n",
    "                    elif score>70:\n",
    "                        score=fuzz.partial_ratio(inst[\"NME_INST\"].lower(),name[\"name\"].lower())\n",
    "                        if score>93:\n",
    "                            reg_col=reg\n",
    "                            name=name[\"name\"]\n",
    "                            break\n",
    "                        else:\n",
    "                            if score>highest_score:\n",
    "                                highest_score=score\n",
    "                                highest_name=name[\"name\"]\n",
    "                    else:\n",
    "                        if score> highest_score:\n",
    "                            highest_score=score\n",
    "                            highest_name=name[\"name\"]\n",
    "                if reg_col:\n",
    "                    break\n",
    "        if reg_col:\n",
    "            reg_col[\"updated\"].append({\"source\":\"scienti\",\"time\":int(time())})\n",
    "            reg_col[\"external_ids\"].append({\"source\":\"minciencias\",\"id\":inst[\"COD_INST\"]})\n",
    "            reg_col[\"external_ids\"].append({\"source\":\"nit\",\"id\":inst[\"TXT_NIT\"]+\"-\"+inst[\"TXT_DIGITO_VERIFICADOR\"]})\n",
    "            if not inst[\"SGL_INST\"] in reg_col[\"abbreviations\"]:\n",
    "                reg_col[\"abbreviations\"].append(inst[\"SGL_INST\"])\n",
    "            if \"URL_HOME_PAGE\" in inst.keys():\n",
    "                if not {\"source\":\"site\",\"url\":inst[\"URL_HOME_PAGE\"]} in reg_col[\"external_urls\"]:\n",
    "                    reg_col[\"external_urls\"].append({\"source\":\"site\",\"url\":inst[\"URL_HOME_PAGE\"]})\n",
    "            #print(reg_col)\n",
    "            print(\"Updated: \",inst[\"NME_INST\"],\" - \",name)\n",
    "            colombia[\"affiliations\"].update_one({\"_id\":reg_col[\"_id\"]},\n",
    "                                               {\"$set\":{\n",
    "                                                   \"updated\":reg_col[\"updated\"],\n",
    "                                                   \"external_ids\":reg_col[\"external_ids\"],\n",
    "                                                   \"abbreviations\":reg_col[\"abbreviations\"],\n",
    "                                                   \"external_urls\":reg_col[\"external_urls\"]\n",
    "                                               }})\n",
    "            inst_updated.append(inst[\"TXT_NIT\"])\n",
    "        else:\n",
    "            print(inst_name)\n",
    "            print(\"Almost similar (\",highest_score,\"): \",inst[\"NME_INST\"],\" - \",highest_name)\n",
    "    count+=1\n",
    "    #print(inst)\n",
    "print(count,len(inst_updated))"
   ]
  },
  {
   "cell_type": "markdown",
   "id": "c02255c9-96ff-4ab5-837c-2177ab129df5",
   "metadata": {},
   "source": [
    "### Inserting groups from scienti"
   ]
  },
  {
   "cell_type": "code",
   "execution_count": 138,
   "id": "411adf54-1d8d-41e3-8111-a20bbcf5c959",
   "metadata": {},
   "outputs": [],
   "source": [
    "def extract_subject(subjects,data):\n",
    "    subjects.append({\n",
    "        \"id\":\"\",\n",
    "        \"name\":data[\"TXT_NME_AREA\"],\n",
    "        \"level\":data[\"NRO_NIVEL\"],\n",
    "        \"external_ids\":[{\"source\":\"OCDE\",\"id\":data[\"COD_AREA_CONOCIMIENTO\"]}]\n",
    "    })\n",
    "    if \"knowledge_area\" in data.keys():\n",
    "        extract_subject(subjects,data[\"knowledge_area\"][0])\n",
    "    return subjects\n"
   ]
  },
  {
   "cell_type": "code",
   "execution_count": 180,
   "id": "93a9d7e8-146c-4aba-b77b-13ded83867a9",
   "metadata": {},
   "outputs": [
    {
     "name": "stdout",
     "output_type": "stream",
     "text": [
      "402\n"
     ]
    }
   ],
   "source": [
    "count=0\n",
    "for group_id in scienti.distinct(\"group.COD_ID_GRUPO\"):\n",
    "    db_reg=colombia[\"affiliations\"].find_one({\"external_ids.id\":group_id})\n",
    "    if db_reg:\n",
    "        continue\n",
    "    entry=empty_affiliations()\n",
    "    entry[\"updated\"].append({\"time\":int(time()),\"source\":\"scienti\"})\n",
    "    entry[\"external_ids\"].append({\"source\":\"minciencias\",\"id\":group_id})\n",
    "    entry[\"types\"].append({\"source\":\"scienti\",\"type\":\"group\"})\n",
    "    \n",
    "    group=scienti.find_one({\"group.COD_ID_GRUPO\":group_id})\n",
    "    group=group[\"group\"][0]\n",
    "    #print(group.keys())\n",
    "    if group:\n",
    "        entry[\"names\"].append({\"name\":group[\"NME_GRUPO\"],\"lang\":\"es\"})\n",
    "        entry[\"birthdate\"]=int(dt.datetime.strptime(str(group[\"ANO_FORMACAO\"])+\"-\"+str(group[\"MES_FORMACAO\"]),\"%Y-%m\").timestamp())\n",
    "        if group[\"STA_ELIMINADO\"]==\"F\":\n",
    "            entry[\"status\"].append({\"source\":\"minciencias\",\"status\":\"activo\"})\n",
    "        if group[\"STA_ELIMINADO\"]==\"T\" or group[\"STA_ELIMINADO\"]==\"V\":\n",
    "            entry[\"status\"].append({\"source\":\"minciencias\",\"status\":\"eliminado\"})\n",
    "        \n",
    "        entry[\"relations\"].append({\"id\":udea_reg[\"_id\"],\"names\":udea_reg[\"names\"]})\n",
    "        \n",
    "        entry[\"description\"].append({\n",
    "            \"source\":\"scienti\",\n",
    "            \"description\":{\n",
    "                \"TXT_PLAN_TRABAJO\":group[\"TXT_PLAN_TRABAJO\"] if \"TXT_PLAN_TRABAJO\" in group.keys() else \"\",\n",
    "                \"TXT_ESTADO_ARTE\":group[\"TXT_ESTADO_ARTE\"] if \"TXT_ESTADO_ARTE\" in group.keys() else \"\",\n",
    "                \"TXT_OBJETIVOS\":group[\"TXT_OBJETIVOS\"]if \"TXT_OBJETIVOS\" in group.keys() else \"\",\n",
    "                \"TXT_PROD_DESTACADA\":group[\"TXT_PROD_DESTACADA\"]if \"TXT_PROD_DESTACADA\" in group.keys() else \"\",\n",
    "                \"TXT_RETOS\":group[\"TXT_RETOS\"]if \"TXT_RETOS\" in group.keys() else \"\",\n",
    "                \"TXT_VISION\":group[\"TXT_VISION\"] if \"TXT_VISION\" in group.keys() else \"\"\n",
    "            }\n",
    "        })\n",
    "        \n",
    "        if \"TXT_CLASIF\" in group.keys() and \"DTA_CLASIF\" in group.keys():\n",
    "            entry[\"ranking\"].append({\n",
    "                \"source\":\"scienti\",\n",
    "                \"rank\":group[\"TXT_CLASIF\"],\n",
    "                \"from_date\":int(dt.datetime.strptime(group[\"DTA_CLASIF\"].split(\", \")[-1].replace(\" GMT\",\"\"),\"%d %b %Y %H:%M:%S\").timestamp()),\n",
    "                \"to_date\":int(dt.datetime.strptime(group[\"DTA_FIN_CLASIF\"].split(\", \")[-1].replace(\" GMT\",\"\"),\"%d %b %Y %H:%M:%S\").timestamp())\n",
    "            })\n",
    "        subjects=extract_subject([],group[\"knowledge_area\"][0])\n",
    "        if len(subjects)>0:\n",
    "            entry[\"subjects\"].append({\n",
    "                \"source\":\"OCDE\",\n",
    "                \"subjects\":subjects\n",
    "            }) \n",
    "        \n",
    "    count+=1\n",
    "    #print(group[\"knowledge_area\"])\n",
    "    #print(\"----------------------\")\n",
    "    #print(entry[\"subjects\"])\n",
    "    #break\n",
    "    colombia[\"affiliations\"].insert_one(entry)\n",
    "print(count)"
   ]
  },
  {
   "cell_type": "markdown",
   "id": "5e1aa0de-dd2b-428e-b746-efc5843a86e6",
   "metadata": {},
   "source": [
    "#### Updating group relations with the institutions they \"belong to\""
   ]
  },
  {
   "cell_type": "code",
   "execution_count": 181,
   "id": "56985a54-87c5-4494-97cb-60cfca5212f5",
   "metadata": {},
   "outputs": [],
   "source": [
    "for group in colombia[\"affiliations\"].find({\"types.type\":\"group\"}):\n",
    "    relations=[]\n",
    "    cod=None\n",
    "    for ext in group[\"external_ids\"]:\n",
    "        if ext[\"source\"]==\"minciencias\":\n",
    "            cod=ext[\"id\"]\n",
    "    if cod:\n",
    "        for reg in scienti.find({\"group.COD_ID_GRUPO\":cod}):\n",
    "            for inst in reg[\"group\"][0][\"institution\"]:\n",
    "                db_inst=colombia[\"affiliations\"].find_one({\"external_ids.id\":inst[\"TXT_NIT\"]+\"-\"+inst[\"TXT_DIGITO_VERIFICADOR\"]})\n",
    "                if db_inst:\n",
    "                    rel_entry={\"names\":db_inst[\"names\"],\"id\":db_inst[\"_id\"],\"types\":db_inst[\"types\"]}\n",
    "                    if not rel_entry in relations:\n",
    "                        relations.append(rel_entry)\n",
    "        colombia[\"affiliations\"].update_one({\"_id\":group[\"_id\"]},\n",
    "                                            {\"$push\":{\n",
    "                                                \"relations\":{\n",
    "                                                    \"$each\":relations\n",
    "                                                }\n",
    "                                            }}\n",
    "                                           )"
   ]
  },
  {
   "cell_type": "markdown",
   "id": "9206b7f6-5c0e-4275-85e9-c9432c6d4e23",
   "metadata": {},
   "source": [
    "#### Inserting groups in relations from their institutions"
   ]
  },
  {
   "cell_type": "code",
   "execution_count": 182,
   "id": "3f60119c-e44d-40c2-b6ca-92f997793eb7",
   "metadata": {},
   "outputs": [],
   "source": [
    "for group in colombia[\"affiliations\"].find({\"types.type\":\"group\"}):\n",
    "    cod=None\n",
    "    for ext in group[\"external_ids\"]:\n",
    "        if ext[\"source\"]==\"minciencias\":\n",
    "            cod=ext[\"id\"]\n",
    "    if cod:\n",
    "        for reg in scienti.find({\"group.COD_ID_GRUPO\":cod}):\n",
    "            for inst in reg[\"group\"][0][\"institution\"]:\n",
    "                db_inst=colombia[\"affiliations\"].find_one({\"external_ids.id\":inst[\"TXT_NIT\"]+\"-\"+inst[\"TXT_DIGITO_VERIFICADOR\"]})\n",
    "                if db_inst:\n",
    "                    #print(db_inst[\"relations\"])\n",
    "                    rel_entry={\"names\":group[\"names\"],\"id\":group[\"_id\"],\"types\":group[\"types\"]}\n",
    "                    if not rel_entry in db_inst[\"relations\"]:\n",
    "                        colombia[\"affiliations\"].update_one({\"_id\":db_inst[\"_id\"]},{\"$push\":{\"relations\":rel_entry}})\n",
    "                        #db_inst[\"relations\"].append(rel_entry)\n",
    "                        #print(db_inst[\"relations\"])"
   ]
  },
  {
   "cell_type": "code",
   "execution_count": 243,
   "id": "f27dee83-0a74-46d0-977a-289799ac253d",
   "metadata": {},
   "outputs": [],
   "source": [
    "#report a sample of two groups, two faculties, two departments, two institutions\n",
    "sample=[]\n",
    "for inst in colombia[\"affiliations\"].find({\"names.name\":{\"$in\":[\"Universidad de Antioquia\",\"Universidad de Caldas\"]}}):\n",
    "    sample.append(inst)\n",
    "for fac in colombia[\"affiliations\"].find({\"names.name\":{\"$in\":[\"Facultad de Ciencias Exactas y Naturales\",\"Facultad de Ciencias Sociales y Humanas\"]}}):\n",
    "    sample.append(fac)\n",
    "for dep in colombia[\"affiliations\"].find({\"names.name\":{\"$in\":[\"Instituto de Física\",\"Departamento de Sociología\"]}}):\n",
    "    sample.append(dep)\n",
    "for group in colombia[\"affiliations\"].find({\"names.name\":{\"$in\":[\"Grupo de Fenomenologia de Interacciones Fundamentales\",\"Redes y Actores Sociales\"]}}):\n",
    "    sample.append(group)\n",
    "with open(\"/current/data/colombia/sample_udea/sample_affiliations.json\", \"w\") as outfile:\n",
    "    json.dump(sample, outfile,cls=JSONEncoder)"
   ]
  },
  {
   "cell_type": "markdown",
   "id": "5c2a49d3-b5fb-419b-92c3-d225d9d09065",
   "metadata": {},
   "source": [
    "### Inserting authors from \"Talento Humano UdeA\""
   ]
  },
  {
   "cell_type": "code",
   "execution_count": 15,
   "id": "6f0c9941-6620-43d5-a957-4cb0b8d26f8c",
   "metadata": {},
   "outputs": [],
   "source": [
    "def empty_person():\n",
    "    entry = {\n",
    "        \"updated\":[],\n",
    "        \"full_name\":\"\",\n",
    "        \"first_names\":[],\n",
    "        \"last_names\":\"\",\n",
    "        \"initials\":\"\",\n",
    "        \"aliases\":[],\n",
    "        \"affiliations\":[],\n",
    "        \"keywords\":[],\n",
    "        \"external_ids\": [],\n",
    "        \"sex\":\"\",\n",
    "        \"ranking\":[],\n",
    "        \"birthplace\":{},\n",
    "        \"birthdate\":-1,\n",
    "        \"degrees\":[],\n",
    "        \"subjects\":[]\n",
    "    }\n",
    "    return entry"
   ]
  },
  {
   "cell_type": "code",
   "execution_count": null,
   "id": "160b5c89-9b34-41ca-8de3-533c9f54f0bc",
   "metadata": {},
   "outputs": [],
   "source": [
    "th.iloc[0]"
   ]
  },
  {
   "cell_type": "code",
   "execution_count": 247,
   "id": "e4cef573-21bc-4568-b7bf-c42e04d09eef",
   "metadata": {},
   "outputs": [],
   "source": [
    "for idx in list(cedula_dep.keys()):\n",
    "    check_db=colombia[\"person\"].find_one({\"external_ids.id\":idx})\n",
    "    if check_db:\n",
    "        continue\n",
    "    #if idx != \"98554575\":\n",
    "    #    continue\n",
    "    entry=empty_person()\n",
    "    entry[\"updated\"].append({\"time\":int(time()),\"source\":\"staff\"})\n",
    "\n",
    "    for i,reg in th[th[\"cedula\"]==idx].iterrows():\n",
    "        aff_time=int(dt.datetime.strptime(reg[\"fecha_vin\"],\"%Y-%m-%d %H:%M:%S\").timestamp())\n",
    "        udea_aff={\"id\":udea_reg[\"_id\"],\"names\":udea_reg[\"names\"],\"types\":udea_reg[\"types\"],\"start_date\":aff_time,\"end_date\":-1}\n",
    "        if not udea_aff in entry[\"affiliations\"]:\n",
    "            entry[\"affiliations\"].append(udea_aff)\n",
    "        if reg[\"tipo_doc\"]==\"CC\":\n",
    "            id_entry={\"source\":\"Cédula de Ciudadanía\",\"id\":idx}\n",
    "            if not id_entry in entry[\"external_ids\"]:\n",
    "                entry[\"external_ids\"].append(id_entry)\n",
    "        elif reg[\"tipo_doc\"]==\"CE\":\n",
    "            id_entry={\"source\":\"Cédula de Extranjería\",\"id\":idx}\n",
    "            if not id_entry in entry[\"external_ids\"]:\n",
    "                entry[\"external_ids\"].append(id_entry)\n",
    "        if not reg[\"nombre\"].lower() in entry[\"aliases\"]:\n",
    "            entry[\"aliases\"].append(reg[\"nombre\"].lower())\n",
    "        dep=colombia[\"affiliations\"].find_one({\"names.name\":reg[\"Nombre cencos\"]})\n",
    "        if dep:\n",
    "            dep_affiliation={\"id\":dep[\"_id\"],\"names\":dep[\"names\"],\"types\":dep[\"types\"],\"start_date\":aff_time,\"end_date\":-1}\n",
    "            if not dep_affiliation in entry[\"affiliations\"]:\n",
    "                entry[\"affiliations\"].append(dep_affiliation)\n",
    "        fac=colombia[\"affiliations\"].find_one({\"names.name\":reg[\"Nombre fac\"]})\n",
    "        if fac:\n",
    "            fac_affiliation={\"id\":fac[\"_id\"],\"names\":fac[\"names\"],\"types\":fac[\"types\"],\"start_date\":aff_time,\"end_date\":-1}\n",
    "            if not fac_affiliation in entry[\"affiliations\"]:\n",
    "                entry[\"affiliations\"].append(fac_affiliation)\n",
    "        entry[\"birthdate\"]=int(dt.datetime.strptime(reg[\"fecha_nac\"],\"%Y-%m-%d %H:%M:%S\").timestamp())\n",
    "        entry[\"sex\"]=reg[\"sexo\"].lower()\n",
    "        degree={\"date\":\"\",\"degree\":reg[\"nivelacad\"],\"id\":\"\",\"institutions\":[],\"source\":\"staff\"}\n",
    "        if not degree in entry[\"degrees\"]:\n",
    "            entry[\"degrees\"].append(degree)\n",
    "        ranking={\"date\":\"\",\"rank\":reg[\"categoria\"],\"source\":\"staff\"}\n",
    "        if not ranking in entry[\"ranking\"]:\n",
    "            entry[\"ranking\"].append(ranking)\n",
    "        \n",
    "    #print(json.dumps(json.loads(json_util.dumps(entry)),indent=2))\n",
    "    #print(entry)\n",
    "    #break\n",
    "    colombia[\"person\"].insert_one(entry)"
   ]
  },
  {
   "cell_type": "code",
   "execution_count": 44,
   "id": "40d59b98-b1f6-4197-8a2a-817f562a001a",
   "metadata": {},
   "outputs": [],
   "source": [
    "def fac_translation(reg):\n",
    "    reg[\"Nombre fac\"]=reg[\"Nombre fac\"].strip()\n",
    "    if reg[\"Nombre fac\"]=='Vic Docencia':\n",
    "        reg[\"Nombre fac\"]=\"Vicerrectoría de Docencia\"\n",
    "    if reg[\"Nombre fac\"]==\"Exactas\":\n",
    "        reg[\"Nombre fac\"]=\"Facultad de Ciencias Exactas y Naturales\"\n",
    "    if reg[\"Nombre fac\"]==\"Sociales\":\n",
    "        reg[\"Nombre fac\"]=\"Facultad de Ciencias Sociales y Humanas\"\n",
    "    if reg[\"Nombre fac\"]==\"Derecho\":\n",
    "        reg[\"Nombre fac\"]=\"Facultad de Derecho y Ciencias Políticas\"\n",
    "    if reg[\"Nombre fac\"]==\"Agrarias\":\n",
    "        reg[\"Nombre fac\"]=\"Facultad de Ciencias Agrarias\"\n",
    "    if reg[\"Nombre fac\"]==\"Est. Políticos\":\n",
    "        reg[\"Nombre fac\"]=\"Institutio de Estudios Políticos\"\n",
    "    if reg[\"Nombre fac\"]==\"Artes\":\n",
    "        reg[\"Nombre fac\"]=\"Facultad de Artes\"\n",
    "    if reg[\"Nombre fac\"]==\"Odontología\":\n",
    "        reg[\"Nombre fac\"]=\"Facultad de Odontología\"\n",
    "    if reg[\"Nombre fac\"]==\"Comunicaciones\":\n",
    "        reg[\"Nombre fac\"]=\"Facultad de Comunicaciones y Filología\"\n",
    "    if reg[\"Nombre fac\"]==\"Educación\":\n",
    "        reg[\"Nombre fac\"]=\"Facultad de Educación\"\n",
    "    if reg[\"Nombre fac\"]==\"Idiomas\":\n",
    "        reg[\"Nombre fac\"]=\"Escuela de Idiomas\"\n",
    "    if reg[\"Nombre fac\"]==\"Filosofía\":\n",
    "        reg[\"Nombre fac\"]=\"Instituto de Filosofía\"\n",
    "    if reg[\"Nombre fac\"]==\"Económicas\":\n",
    "        reg[\"Nombre fac\"]=\"Facultad de Ciencias Económicas\"\n",
    "    if reg[\"Nombre fac\"]==\"Ingeniería\":\n",
    "        reg[\"Nombre fac\"]=\"Facultad de Ingeniería\"\n",
    "    if reg[\"Nombre fac\"]==\"Medicina\":\n",
    "        reg[\"Nombre fac\"]=\"Facultad de Medicina\"\n",
    "    if reg[\"Nombre fac\"]==\"Farmacéuticas\":\n",
    "        reg[\"Nombre fac\"]=\"Facultad de Ciencias Farmacéuticas y Alimentarias\"\n",
    "    if reg[\"Nombre fac\"]==\"Microbiología\":\n",
    "        reg[\"Nombre fac\"]=\"Escuela de Microbiología\"\n",
    "    if reg[\"Nombre fac\"]==\"Salud Pública\":\n",
    "        reg[\"Nombre fac\"]=\"Facultad de Salud Pública\"\n",
    "    if reg[\"Nombre fac\"]==\"Agrarias\":\n",
    "        reg[\"Nombre fac\"]=\"Facultad de Ciecias Agrarias\"\n",
    "    if reg[\"Nombre fac\"]==\"Bibliotecología\":\n",
    "        reg[\"Nombre fac\"]=\"Escuela Interamericana de Bibliotecología\"\n",
    "    if reg[\"Nombre fac\"]==\"Enfermería\":\n",
    "        reg[\"Nombre fac\"]=\"Facultad de Enfermería\"\n",
    "    if reg[\"Nombre fac\"]==\"Educación Física\":\n",
    "        reg[\"Nombre fac\"]=\"Instituto Universitario de Educación Física y Deporte\"\n",
    "    if reg[\"Nombre fac\"]==\"Nutrición\":\n",
    "        reg[\"Nombre fac\"]=\"Escuela de Nutrición y Dietética\"\n",
    "    if reg[\"Nombre fac\"]==\"Corp Ambiental\":\n",
    "        reg[\"Nombre fac\"]=\"Corporación Ambiental\"\n",
    "    if reg[\"Nombre fac\"]==\"Est. Regionales\":\n",
    "        reg[\"Nombre fac\"]=\"Instituto de Estudios Regionales\"\n",
    "    return reg[\"Nombre fac\"]"
   ]
  },
  {
   "cell_type": "code",
   "execution_count": 69,
   "id": "41573a9e-6cbf-432e-92b0-b02db3c60243",
   "metadata": {},
   "outputs": [],
   "source": [
    "#Fixing faculties for authors already inserted from talento humano and wothout faculties\n",
    "for idx in th[\"cedula\"].unique():\n",
    "    #print(idx)\n",
    "    author=colombia[\"person\"].find_one({\"external_ids.id\":idx})\n",
    "    affs=[]\n",
    "    for aff in author[\"affiliations\"]:\n",
    "        if aff[\"types\"][0][\"type\"]!=\"faculty\":\n",
    "            affs.append(aff)\n",
    "\n",
    "    reg=th[th[\"cedula\"]==idx].iloc[0]\n",
    "    fac_name=str(reg[\"Nombre fac\"])\n",
    "    fac_translated=fac_translation(reg)\n",
    "    aff_time=int(dt.datetime.strptime(reg[\"fecha_vin\"],\"%Y-%m-%d %H:%M:%S\").timestamp())\n",
    "    \n",
    "    fac_db=colombia[\"affiliations\"].find_one({\"types.type\":\"faculty\",\"names.name\":fac_translated})\n",
    "    if fac_db:\n",
    "        affs.append(\n",
    "            {\n",
    "                \"id\":fac_db[\"_id\"],\n",
    "                \"names\":fac_db[\"names\"],\n",
    "                \"types\":fac_db[\"types\"],\n",
    "                \"start_date\":aff_time,\"end_date\":-1\n",
    "            }\n",
    "        )\n",
    "        colombia[\"person\"].update_one({\"_id\":author[\"_id\"]},{\"$set\":{\"affiliations\":affs}})\n",
    "    else:\n",
    "        print(idx)"
   ]
  },
  {
   "cell_type": "markdown",
   "id": "37833459-2946-4712-a4bc-92d56a2f384e",
   "metadata": {},
   "source": [
    "### Inserting/updating authors from scienti db"
   ]
  },
  {
   "cell_type": "code",
   "execution_count": 248,
   "id": "6f142293-1117-4871-b581-52a992696cc6",
   "metadata": {},
   "outputs": [],
   "source": [
    "updated=[]"
   ]
  },
  {
   "cell_type": "code",
   "execution_count": 249,
   "id": "96703d6f-d853-460f-b5be-14ca936449af",
   "metadata": {},
   "outputs": [
    {
     "name": "stdout",
     "output_type": "stream",
     "text": [
      "1263 716 1979\n"
     ]
    }
   ],
   "source": [
    "#updating authors already inserted with the information in scienti dump\n",
    "found=0\n",
    "missing=0\n",
    "for person in colombia[\"person\"].find():\n",
    "    if person[\"_id\"] in updated:\n",
    "        continue\n",
    "    idx=None\n",
    "    for ext in person[\"external_ids\"]:\n",
    "        if ext[\"source\"]==\"Cédula de Ciudadanía\":\n",
    "            idx=ext[\"id\"]\n",
    "        elif ext[\"source\"]==\"Cédula de Extranjería\":\n",
    "            idx=ext[\"id\"]\n",
    "    scienti_reg=scienti.find_one({\"author.NRO_DOCUMENTO_IDENT\":idx})\n",
    "    if scienti_reg:\n",
    "        author=scienti_reg[\"author\"][0]\n",
    "        found+=1\n",
    "        person[\"external_ids\"].append({\"source\":\"scienti\",\"id\":author[\"COD_RH\"]})\n",
    "        if \"COD_ORCID\" in author.keys():\n",
    "            if author[\"COD_ORCID\"]:\n",
    "                person[\"external_ids\"].append({\"source\":\"orcid\",\"id\":author[\"COD_ORCID\"]})\n",
    "        person[\"first_names\"]=author[\"TXT_NAMES_RH\"]\n",
    "        person[\"last_names\"]=[]\n",
    "        if \"TXT_PRIM_APELL\" in author.keys():\n",
    "            person[\"last_names\"].append(author[\"TXT_PRIM_APELL\"])\n",
    "        if \"TXT_SEG_APELL\" in author.keys():\n",
    "            person[\"last_names\"].append(author[\"TXT_SEG_APELL\"])\n",
    "        person[\"last_names\"]=\" \".join(person[\"last_names\"])\n",
    "        person[\"updated\"].append({\"time\":int(time()),\"source\":\"scienti\"})\n",
    "        colombia[\"person\"].update_one({\"_id\":person[\"_id\"]},{\"$set\":{\n",
    "            \"external_ids\":person[\"external_ids\"],\n",
    "            \"first_names\":person[\"first_names\"],\n",
    "            \"last_names\":person[\"last_names\"],\n",
    "            \"full_name\":person[\"first_names\"]+\" \"+person[\"last_names\"],\n",
    "            \"updated\":person[\"updated\"]\n",
    "        }})\n",
    "        updated.append(person[\"_id\"])\n",
    "    else:\n",
    "        missing+=1\n",
    "print(found,missing,colombia[\"person\"].count_documents({}))"
   ]
  },
  {
   "cell_type": "code",
   "execution_count": 250,
   "id": "507c378a-38c2-42d8-a9ac-1511f9e9a884",
   "metadata": {},
   "outputs": [],
   "source": [
    "people_groups=0\n",
    "for person in colombia[\"person\"].find():\n",
    "    idx=None\n",
    "    updatable=False\n",
    "    for ext in person[\"external_ids\"]:\n",
    "        if ext[\"source\"]==\"Cédula de Ciudadanía\":\n",
    "            idx=ext[\"id\"]\n",
    "        elif ext[\"source\"]==\"Cédula de Extranjería\":\n",
    "            idx=ext[\"id\"]\n",
    "    for prod in scienti.find({\"author.NRO_DOCUMENTO_IDENT\":idx}):\n",
    "        group_entry={}\n",
    "        group_db=colombia[\"affiliations\"].find_one({\"external_ids.id\":prod[\"group\"][0][\"COD_ID_GRUPO\"]})\n",
    "        if group_db:\n",
    "            aff_found=False\n",
    "            for aff in person[\"affiliations\"]:\n",
    "                if group_db[\"_id\"] == aff[\"id\"]:\n",
    "                    aff_found=True\n",
    "                    break\n",
    "            if aff_found:\n",
    "                continue\n",
    "            time_str=\"\"\n",
    "            if len(str(prod[\"NRO_ANO_PRESENTA\"]))==4:\n",
    "                time_str+=str(prod[\"NRO_ANO_PRESENTA\"])\n",
    "            else:\n",
    "                continue\n",
    "            if len(str(prod[\"NRO_MES_PRESENTA\"]))<2:\n",
    "                time_str+=\"-0\"+str(prod[\"NRO_MES_PRESENTA\"])\n",
    "            elif len(str(prod[\"NRO_MES_PRESENTA\"]))==2:\n",
    "                time_str+=\"-\"+str(prod[\"NRO_MES_PRESENTA\"])\n",
    "            aff_time=int(dt.datetime.strptime(time_str,\"%Y-%m\").timestamp())\n",
    "            group_entry={\"id\":group_db[\"_id\"],\"names\":group_db[\"names\"],\"types\":group_db[\"types\"],\"start_date\":aff_time,\"end_date\":-1}\n",
    "            if not group_entry in person[\"affiliations\"]:\n",
    "                person[\"affiliations\"].append(group_entry)\n",
    "                updatable=True\n",
    "    if updatable:\n",
    "        colombia[\"person\"].update_one({\"_id\":person[\"_id\"]},{\"$set\":{\"affiliations\":person[\"affiliations\"]}})"
   ]
  },
  {
   "cell_type": "code",
   "execution_count": 251,
   "id": "fe8c3122-f89f-48cc-86cd-a35337bca72c",
   "metadata": {},
   "outputs": [],
   "source": [
    "#fixing names for the authors inserted from staff but missing from scienti\n",
    "for person in colombia[\"person\"].find({\"full_name\":\"\"}):\n",
    "    #print(person)\n",
    "    names=split_names(person[\"aliases\"][0])\n",
    "    colombia[\"person\"].update_one({\"_id\":person[\"_id\"]},{\"$set\":{\n",
    "        \"full_name\":names[\"NOMBRE COMPLETO\"],\n",
    "        \"first_names\":names[\"NOMBRES\"],\n",
    "        \"last_names\":names[\"PRIMER APELLIDO\"]+\" \"+names[\"SEGUNDO APELLIDO\"]\n",
    "    }})"
   ]
  },
  {
   "cell_type": "code",
   "execution_count": 70,
   "id": "2b444d3b-16e1-4028-ad86-f66cfe99cf58",
   "metadata": {},
   "outputs": [
    {
     "data": {
      "text/plain": [
       "{'updated': [],\n",
       " 'full_name': '',\n",
       " 'first_names': '',\n",
       " 'last_names': '',\n",
       " 'initials': '',\n",
       " 'aliases': [],\n",
       " 'affiliations': [],\n",
       " 'keywords': [],\n",
       " 'external_ids': [],\n",
       " 'sex': '',\n",
       " 'ranking': [],\n",
       " 'birthplace': {},\n",
       " 'birthdate': -1,\n",
       " 'degrees': [],\n",
       " 'subjects': []}"
      ]
     },
     "execution_count": 70,
     "metadata": {},
     "output_type": "execute_result"
    }
   ],
   "source": [
    "empty_person()"
   ]
  },
  {
   "cell_type": "code",
   "execution_count": 92,
   "id": "1656832d-6f9f-4bff-8ef9-dae410570e96",
   "metadata": {},
   "outputs": [
    {
     "name": "stdout",
     "output_type": "stream",
     "text": [
      "1265 2091 3356\n"
     ]
    }
   ],
   "source": [
    "#inserting the authors found in scienti but not in the staff file\n",
    "already=0\n",
    "count=0\n",
    "inserted=0\n",
    "for rh in scienti.distinct(\"author.COD_RH\"):\n",
    "    autor_db=None\n",
    "    count+=1\n",
    "    #print(rh)\n",
    "    author_db=colombia[\"person\"].find_one({\"external_ids.id\":rh})\n",
    "    if author_db:\n",
    "        already+=1\n",
    "        continue\n",
    "    author_scienti=scienti.find_one({\"author.COD_RH\":rh})\n",
    "    if author_scienti:\n",
    "        author=author_scienti[\"author\"][0]\n",
    "        if \"NRO_DOCUMENTO_IDENT\" in author.keys():\n",
    "            author_db=colombia[\"person\"].find_one({\"external_ids.id\":author[\"NRO_DOCUMENTO_IDENT\"]})\n",
    "            if author_db:\n",
    "                already+=1\n",
    "        if not author_db:\n",
    "            if \"COD_ORCID\" in author.keys():\n",
    "                author_db=colombia[\"person\"].find_one({\"external_ids.id\":author[\"COD_ORCID\"]})\n",
    "                if author_db:\n",
    "                    already+=1\n",
    "        if not author_db:\n",
    "            if \"AUTHOR_ID_SCP\" in author.keys():\n",
    "                author_db=colombia[\"person\"].find_one({\"external_ids.id\":author[\"AUTHOR_ID_SCP\"]})\n",
    "                if author_db:\n",
    "                    already+=1\n",
    "        if not author_db:\n",
    "            entry=empty_person()\n",
    "            entry[\"updated\"].append({\"time\":int(time()),\"source\":\"scienti\"})\n",
    "            if author[\"TPO_DOCUMENTO_IDENT\"]==\"P\":\n",
    "                entry[\"external_ids\"].append({\"source\":\"Passport\",\"id\":author[\"NRO_DOCUMENTO_IDENT\"]})\n",
    "            if author[\"TPO_DOCUMENTO_IDENT\"]==\"C\":\n",
    "                entry[\"external_ids\"].append({\"source\":\"Cédula de Ciudadanía\",\"id\":author[\"NRO_DOCUMENTO_IDENT\"]})\n",
    "            if author[\"TPO_DOCUMENTO_IDENT\"]==\"E\":\n",
    "                entry[\"external_ids\"].append({\"source\":\"Cédula de Extranjería\",\"id\":author[\"NRO_DOCUMENTO_IDENT\"]})\n",
    "            entry[\"external_ids\"].append({\"source\":\"scienti\",\"id\":author[\"COD_RH\"]})\n",
    "            if \"COD_ORCID\" in author.keys():\n",
    "                if author[\"COD_ORCID\"]:\n",
    "                    entry[\"external_ids\"].append({\"source\":\"orcid\",\"id\":author[\"COD_ORCID\"]})\n",
    "            entry[\"first_names\"]=author[\"TXT_NAMES_RH\"]\n",
    "            entry[\"last_names\"]=[]\n",
    "            if \"TXT_PRIM_APELL\" in author.keys():\n",
    "                entry[\"last_names\"].append(author[\"TXT_PRIM_APELL\"])\n",
    "            if \"TXT_SEG_APELL\" in author.keys():\n",
    "                entry[\"last_names\"].append(author[\"TXT_SEG_APELL\"])\n",
    "            entry[\"last_names\"]=\" \".join(entry[\"last_names\"])\n",
    "            entry[\"full_name\"]=entry[\"first_names\"]+\" \"+entry[\"last_names\"]\n",
    "            if \"TXT_CITACION_BIBLIO\" in author.keys():\n",
    "                entry[\"aliases\"].append(author[\"TXT_CITACION_BIBLIO\"].lower())\n",
    "            if \"TPO_SEXO\" in author.keys():\n",
    "                entry[\"sex\"]=author[\"TPO_SEXO\"].lower()\n",
    "            if \"TPO_PERFIL\" in author.keys():\n",
    "                ranking={\"date\":\"\",\"rank\":author[\"TPO_PERFIL\"],\"source\":\"scienti\"}\n",
    "                if not ranking in entry[\"ranking\"]:\n",
    "                    entry[\"ranking\"].append(ranking)\n",
    "            if \"institution\" in author_scienti.keys():\n",
    "                aff_db=colombia[\"affiliations\"].find_one({\"external_ids.id\":author_scienti[\"institution\"][0][\"COD_INST\"]})\n",
    "                if aff_db:\n",
    "                    entry[\"affiliations\"].append({\n",
    "                        \"id\":aff_db[\"_id\"],\n",
    "                        \"names\":aff_db[\"names\"],\n",
    "                        \"types\":aff_db[\"types\"],\n",
    "                        \"start_date\":-1,\n",
    "                        \"end_date\":-1\n",
    "                    })\n",
    "            if \"group\" in author_scienti.keys():\n",
    "                aff_db=colombia[\"affiliations\"].find_one({\"external_ids.id\":author_scienti[\"group\"][0][\"COD_ID_GRUPO\"]})\n",
    "                if aff_db:\n",
    "                    entry[\"affiliations\"].append({\n",
    "                        \"id\":aff_db[\"_id\"],\n",
    "                        \"names\":aff_db[\"names\"],\n",
    "                        \"types\":aff_db[\"types\"],\n",
    "                        \"start_date\":-1,\n",
    "                        \"end_date\":-1\n",
    "                    })\n",
    "            \n",
    "            colombia[\"person\"].insert_one(entry)\n",
    "            inserted+=1\n",
    "print(already,inserted,count)"
   ]
  },
  {
   "cell_type": "code",
   "execution_count": 94,
   "id": "778dc35e-5425-48bc-b760-0be9892997de",
   "metadata": {},
   "outputs": [],
   "source": [
    "#Check if there is repeated authors\n",
    "repeated_ids=[]\n",
    "with client.start_session() as session:\n",
    "    old=dt.datetime.now()\n",
    "    for author in colombia[\"person\"].find():\n",
    "        for ext in author[\"external_ids\"]:\n",
    "            count=colombia[\"person\"].count_documents({\"external_ids.id\":ext[\"id\"]})\n",
    "            if count>1:\n",
    "                repeated_ids.append(author[\"_id\"])\n",
    "        delta=dt.datetime.now()-old\n",
    "        if delta.seconds>240:\n",
    "            print(len(repeated_ids))\n",
    "            client.admin.command('refreshSessions', [session.session_id], session=session)\n",
    "            old=dt.datetime.now()"
   ]
  },
  {
   "cell_type": "code",
   "execution_count": null,
   "id": "66d1d500-0d60-4549-b622-0256ee7faf97",
   "metadata": {},
   "outputs": [],
   "source": [
    "#Filling initials variable\n",
    "for person in colombia[\"person\"].find({\"initials\":\"\"}):\n",
    "    initials=\"\".join([p[0].upper() for p in person[\"first_names\"].split()])\n",
    "    colombia[\"person\"].update_one({\"_id\":person[\"_id\"]},{\"$set\":{\"initials\":initials}})"
   ]
  },
  {
   "cell_type": "code",
   "execution_count": 254,
   "id": "548e8e96-7131-4b14-83bc-52ddc961b657",
   "metadata": {},
   "outputs": [],
   "source": [
    "#report authors\n",
    "sample=[]\n",
    "for person in colombia[\"person\"].find({\"last_names\":{\"$in\":[\"Restrepo Quintero\",\"Velez Cuartas\",\"Uribe Tirado\"]}}):\n",
    "    sample.append(person)\n",
    "with open(\"/current/data/colombia/sample_udea/sample_person.json\", \"w\") as outfile:\n",
    "    json.dump(sample, outfile,cls=JSONEncoder)"
   ]
  },
  {
   "cell_type": "code",
   "execution_count": null,
   "id": "211fe672-5daa-4280-88bb-d520016589da",
   "metadata": {},
   "outputs": [],
   "source": [
    "#changing lastnames from one string to a list\n",
    "hard_scienti=[]\n",
    "hard_others=[]\n",
    "modified=0\n",
    "skipped=0\n",
    "total=0\n",
    "for author in colombia[\"person\"].find():\n",
    "    total+=1\n",
    "    if isinstance(author[\"last_names\"],list):\n",
    "        skipped+=1\n",
    "        continue\n",
    "    ln_split=author[\"last_names\"].split()\n",
    "    if len(ln_split)>2:\n",
    "        updated_from=[]\n",
    "        for up in author[\"updated\"]:\n",
    "            updated_from.append(up[\"source\"])\n",
    "        print(updated_from)\n",
    "        print(author[\"first_names\"],ln_split)\n",
    "        if \"scienti\" in updated_from:\n",
    "            hard_scienti.append(author[\"_id\"])\n",
    "        else:\n",
    "            hard_others.append(author[\"_id\"])\n",
    "    else:\n",
    "        #pass\n",
    "        colombia[\"person\"].update_one({\"_id\":author[\"_id\"]},{\"$set\":{\"last_names\":ln_split}})\n",
    "        modified+=1\n",
    "print(skipped,modified,total)"
   ]
  },
  {
   "cell_type": "code",
   "execution_count": 122,
   "id": "82d12770-1e8e-4284-862d-28425aabcdd1",
   "metadata": {},
   "outputs": [
    {
     "data": {
      "text/plain": [
       "{'NOMBRE COMPLETO': 'Natalia Da Silveira Arruda',\n",
       " 'PRIMER APELLIDO': 'Da Silveira',\n",
       " 'SEGUNDO APELLIDO': 'Arruda',\n",
       " 'NOMBRES': 'Natalia',\n",
       " 'INICIALES': 'N.'}"
      ]
     },
     "execution_count": 122,
     "metadata": {},
     "output_type": "execute_result"
    }
   ],
   "source": [
    "split_names(\"DA SILVEIRA ARRUDA NATALIA\")"
   ]
  },
  {
   "cell_type": "code",
   "execution_count": 110,
   "id": "116c8eef-6aff-4187-96d3-dbc8dc7bf97b",
   "metadata": {},
   "outputs": [
    {
     "name": "stdout",
     "output_type": "stream",
     "text": [
      "31\n"
     ]
    }
   ],
   "source": [
    "skipped=0\n",
    "len(hard_scienti),len(hard_others)\n",
    "for idx in hard_scienti:\n",
    "    author=colombia[\"person\"].find_one({\"_id\":idx})\n",
    "    if isinstance(author[\"last_names\"],list):\n",
    "        skipped+=1\n",
    "        continue\n",
    "    extid=None\n",
    "    for ext in author[\"external_ids\"]:\n",
    "        if ext[\"source\"]==\"scienti\":\n",
    "            extid=ext[\"id\"]\n",
    "            break\n",
    "    author_scienti=scienti.find_one({\"author.COD_RH\":extid})\n",
    "    author_scienti=author_scienti[\"author\"][0]\n",
    "    last_names=[]\n",
    "    if \"TXT_PRIM_APELL\" in author_scienti.keys():\n",
    "        last_names.append(author_scienti[\"TXT_PRIM_APELL\"])\n",
    "    if \"TXT_SEG_APELL\" in author_scienti.keys():\n",
    "        last_names.append(author_scienti[\"TXT_SEG_APELL\"])\n",
    "    colombia[\"person\"].update_one({\"_id\":author[\"_id\"]},{\"$set\":{\"last_names\":last_names}})\n",
    "print(skipped)"
   ]
  },
  {
   "cell_type": "code",
   "execution_count": 125,
   "id": "5c3aed5b-e87c-4f95-bcec-3bf1611024e9",
   "metadata": {},
   "outputs": [],
   "source": [
    "skipped=0\n",
    "for idx in hard_others:\n",
    "    author=colombia[\"person\"].find_one({\"_id\":idx})\n",
    "    if isinstance(author[\"last_names\"],list):\n",
    "        skipped+=1\n",
    "        continue\n",
    "    extid=None\n",
    "    for ext in author[\"external_ids\"]:\n",
    "        if ext[\"source\"]==\"scienti\":\n",
    "            extid=ext[\"id\"]\n",
    "            break\n",
    "    last_names=[]\n",
    "    if author[\"full_name\"]==\"Manuel Eusebio Molina Del Aguila\":\n",
    "        last_names=[\"Molina\", \"Del Aguila\"]\n",
    "    if author[\"full_name\"]==\"Victoria Eugenia Gonzalez De Franco\":\n",
    "        last_names=[\"Gonzalez\", \"De Franco\"]\n",
    "    if author[\"full_name\"]==\"Natalia Da Silveira Arruda\":\n",
    "        last_names=[\"Da Silveira\", \"Arruda\"]\n",
    "    else:\n",
    "        name_dict=split_names(author[\"full_name\"])\n",
    "        if name_dict[\"PRIMER APELLIDO\"]:\n",
    "            last_names.append(name_dict[\"PRIMER APELLIDO\"])\n",
    "        if name_dict[\"SEGUNDO APELLIDO\"]:\n",
    "            last_names.append(name_dict[\"SEGUNDO APELLIDO\"])\n",
    "    colombia[\"person\"].update_one({\"_id\":author[\"_id\"]},{\"$set\":{\"last_names\":last_names}})"
   ]
  },
  {
   "cell_type": "code",
   "execution_count": 126,
   "id": "50b5c92b-0e92-445e-a6a8-3d9228bf604a",
   "metadata": {},
   "outputs": [
    {
     "name": "stdout",
     "output_type": "stream",
     "text": [
      "4070 4070 0\n"
     ]
    }
   ],
   "source": [
    "#checking if there are last_names not on a list\n",
    "total=0\n",
    "skipped=0\n",
    "wrong=0\n",
    "for author in colombia[\"person\"].find():\n",
    "    total+=1\n",
    "    if isinstance(author[\"last_names\"],list):\n",
    "        skipped+=1\n",
    "        continue\n",
    "    else:\n",
    "        wrong+=1\n",
    "print(total,skipped,wrong)"
   ]
  },
  {
   "cell_type": "markdown",
   "id": "1802adf3-4510-42bd-a200-742fc6a32ec4",
   "metadata": {},
   "source": [
    "### Inserting authors from minciencias datos abiertos file"
   ]
  },
  {
   "cell_type": "code",
   "execution_count": 97,
   "id": "27bd68ee-1699-48b4-bfb3-229b3c1fccb1",
   "metadata": {},
   "outputs": [],
   "source": [
    "investigadores_minciencias=pd.read_csv(\"/current/data/colombia/scienti-abiertos/2-Investigadores_Reconocidos_por_convocatoria.csv\",dtype={\"ID_PERSONA_PR\":str})"
   ]
  },
  {
   "cell_type": "code",
   "execution_count": null,
   "id": "f61ab974-bf2a-4636-b720-411a80a130af",
   "metadata": {},
   "outputs": [],
   "source": []
  },
  {
   "cell_type": "markdown",
   "id": "145ab88e-109b-4521-86e4-6fdb5d49315c",
   "metadata": {},
   "source": [
    "### Inserting authors from ranking (puntaje) file"
   ]
  },
  {
   "cell_type": "code",
   "execution_count": 74,
   "id": "f71b07c4-4b65-495e-bacc-b1078e41f46a",
   "metadata": {},
   "outputs": [],
   "source": [
    "puntaje = pd.read_excel(\"/current/data/colombia/udea/produccion 2018-2022 al 27 oct 2022.xlsx\",\n",
    "                        dtype={\"cedula\":str}\n",
    "                       )"
   ]
  },
  {
   "cell_type": "code",
   "execution_count": 11,
   "id": "253d39c0-fcb4-4d57-9cfb-54fde077c260",
   "metadata": {},
   "outputs": [
    {
     "data": {
      "text/plain": [
       "Index(['cedula', 'nombre', 'tipo mat', 'capdescrip', 'tipo concep', 'tipo mov',\n",
       "       'ptos', 'numero autores', 'año realiz', 'fecha vig', 'fecha aplica',\n",
       "       'fecha pres', 'codigo', 'titulo', 'codigo mat', 'nombre rev o premio',\n",
       "       'issn', 'numero acta', 'pais', 'idioma', 'fecha registro', 'DOI',\n",
       "       'URL'],\n",
       "      dtype='object')"
      ]
     },
     "execution_count": 11,
     "metadata": {},
     "output_type": "execute_result"
    }
   ],
   "source": [
    "puntaje.columns"
   ]
  },
  {
   "cell_type": "code",
   "execution_count": null,
   "id": "c0e033a9-5502-4448-94ab-6db0df42ede5",
   "metadata": {},
   "outputs": [],
   "source": [
    "puntaje.iloc[0]"
   ]
  },
  {
   "cell_type": "code",
   "execution_count": 87,
   "id": "573d4006-0ebd-41d5-9f71-0cf65d1f16c6",
   "metadata": {},
   "outputs": [
    {
     "name": "stdout",
     "output_type": "stream",
     "text": [
      "179 8\n"
     ]
    }
   ],
   "source": [
    "missing=[]\n",
    "in_scienti=[]\n",
    "for cedula in puntaje[\"cedula\"].unique():\n",
    "    products=puntaje[puntaje[\"cedula\"]==cedula]\n",
    "    author_db=colombia[\"person\"].find_one({\"external_ids.id\":cedula})\n",
    "    if author_db:\n",
    "        continue\n",
    "    missing.append(cedula)\n",
    "    scienti_db=scienti.find_one({\"author.NRO_DOCUMENTO_IDENT\":cedula})\n",
    "    if scienti_db:\n",
    "        in_scienti.append(cedula)\n",
    "print(len(missing),len(cedula))"
   ]
  },
  {
   "cell_type": "code",
   "execution_count": 72,
   "id": "f101c1af-96d4-4022-8559-8a088f46ebcf",
   "metadata": {},
   "outputs": [
    {
     "name": "stdout",
     "output_type": "stream",
     "text": [
      "17 26 43\n"
     ]
    }
   ],
   "source": [
    "missing=0\n",
    "found=0\n",
    "for idx in scienti.distinct(\"institution.COD_INST\"):\n",
    "    reg_db=colombia[\"affiliations\"].find_one({\"external_ids.id\":idx})\n",
    "    if reg_db:\n",
    "        found+=1\n",
    "    else:\n",
    "        missing+=1\n",
    "print(found,missing,found+missing)"
   ]
  },
  {
   "cell_type": "code",
   "execution_count": 84,
   "id": "fc315111-78ab-4a15-ab4b-f0282c854740",
   "metadata": {},
   "outputs": [
    {
     "name": "stdout",
     "output_type": "stream",
     "text": [
      "INSTITUTO TECNOLÓGICO METROPOLITANO DE MEDELLÍN 000000000085\n",
      "MATH DECISION SAS 000000010032\n",
      "TECNOLOGICO DE ANTIOQUIA INSTITUCION UNIVERSITARIA 000000000261\n",
      "POLITÉCNICO COLOMBIANO JAIME ISAZA CADAVID 633300000884\n",
      "UNIVERSIDAD AUTONOMA DE MANIZALES 000000009276\n",
      "Universidad De Manizales - Umanizales 008800000884\n",
      "CORPORACION UNIVERSIDAD DE LA COSTA 625400000885\n",
      "UNIVERSIDAD CES 628200000886\n",
      "UNIVERSIDAD ICESI 014700000887\n",
      "UNIVERSIDAD DE CORDOBA 002600000881\n",
      "SERVICIO NACIONAL DE APRENDIZAJE SENA 402100000888\n",
      "UNIVERSIDAD SANTO TOMÁS, SECCIONAL BUCARAMANGA 015900000889\n",
      "UNIVERSIDAD AUTONOMA DE BUCARAMANGA 015400000880\n",
      "UNIVERSIDAD DEL TOLIMA 016100000882\n",
      "INSTITUTO NACIONAL DE CANCEROLOGIA ESE 208900000889\n",
      "UNIVERSIDAD EIA 626800000880\n",
      "FUNDACIÓN HOSPITALARIA SAN VICENTE DE PAÚL 000000000552\n",
      "Universidad del Sinú - Elías Bechara Zainum 000000000013\n",
      "Fundación Universitaria Autónoma De Las Américas 000000000268\n",
      "FUNDACIÓN UNIVERSITARIA CATÓLICA DEL NORTE 034000000889\n",
      "UNIVERSIDAD SANTO TOMAS 000000006045\n",
      "UNIVERSIDAD EL BOSQUE 004800000881\n",
      "UNIVERSIDAD DE CUNDINAMARCA 000000000103\n",
      "Corporación Centro de Innovación y Desarrollo Tecnológico del Sector Eléctrico - CIDET 405000000880\n",
      "Institución Universitaria Bellas Artes y Ciencias de Bolívar 000000007892\n",
      "Corporación Universitaria Americana 000000008383\n",
      "17 0 26 43\n"
     ]
    }
   ],
   "source": [
    "missing=0\n",
    "found=0\n",
    "fixable=0\n",
    "for idx in scienti.distinct(\"institution.COD_INST\"):\n",
    "    reg_db=colombia[\"affiliations\"].find_one({\"external_ids.id\":idx})\n",
    "    if reg_db:\n",
    "        found+=1\n",
    "    else:\n",
    "        scienti_db=scienti.find_one({\"institution.COD_INST\":idx})\n",
    "        scienti_db=scienti_db[\"institution\"][0]\n",
    "        reg_db=colombia[\"affiliations\"].find_one({\"names.name\":{\"$regex\":\"/\"+scienti_db[\"NME_INST\"]+\"/i\"}})\n",
    "        if reg_db:\n",
    "            fixable+=1\n",
    "        else:\n",
    "            print(scienti_db[\"NME_INST\"],scienti_db[\"COD_INST\"])\n",
    "            missing+=1\n",
    "print(found,fixable,missing,found+fixable+missing)"
   ]
  },
  {
   "cell_type": "code",
   "execution_count": 82,
   "id": "00c428ab-b33b-4b18-b9a2-fdd62c278ca0",
   "metadata": {},
   "outputs": [],
   "source": [
    "colombia[\"affiliations\"].find_one({\"names.name\":{\"$regex\":\"/universidad de antioquia/i\"}})"
   ]
  },
  {
   "cell_type": "code",
   "execution_count": null,
   "id": "7df32d91-24dc-42ae-abd5-061d8e6e528b",
   "metadata": {},
   "outputs": [],
   "source": []
  }
 ],
 "metadata": {
  "kernelspec": {
   "display_name": "Python 3 (ipykernel)",
   "language": "python",
   "name": "python3"
  },
  "language_info": {
   "codemirror_mode": {
    "name": "ipython",
    "version": 3
   },
   "file_extension": ".py",
   "mimetype": "text/x-python",
   "name": "python",
   "nbconvert_exporter": "python",
   "pygments_lexer": "ipython3",
   "version": "3.8.10"
  }
 },
 "nbformat": 4,
 "nbformat_minor": 5
}
