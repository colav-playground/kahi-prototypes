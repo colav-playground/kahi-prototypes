{
 "cells": [
  {
   "cell_type": "code",
   "execution_count": 2,
   "id": "12a29430-8845-48b1-b1cd-3425fb6c3055",
   "metadata": {},
   "outputs": [],
   "source": [
    "from pymongo import MongoClient\n",
    "from bson.objectid import ObjectId\n",
    "from bson import json_util\n",
    "from time import time\n",
    "import datetime as dt\n",
    "from dateutil.relativedelta import relativedelta\n",
    "import pandas as pd\n",
    "import numpy as np\n",
    "from fuzzywuzzy import fuzz, process\n",
    "import requests\n",
    "from urllib.parse import unquote\n",
    "import unidecode\n",
    "import re\n",
    "import requests\n",
    "from bs4 import BeautifulSoup\n",
    "import json\n",
    "import pickle"
   ]
  },
  {
   "cell_type": "code",
   "execution_count": 3,
   "id": "24f29050-0f68-49a2-8c40-ecca3110d907",
   "metadata": {},
   "outputs": [],
   "source": [
    "class JSONEncoder(json.JSONEncoder):\n",
    "    def default(self, o):\n",
    "        if isinstance(o, ObjectId):\n",
    "            return str(o)\n",
    "        return json.JSONEncoder.default(self, o)"
   ]
  },
  {
   "cell_type": "code",
   "execution_count": 4,
   "id": "9153724a-bbd4-4854-a27e-5a4aafe56fdd",
   "metadata": {},
   "outputs": [],
   "source": [
    "client=MongoClient()\n",
    "colombia=client[\"colombia_udea\"]\n",
    "openalex=client[\"openalex\"]"
   ]
  },
  {
   "cell_type": "code",
   "execution_count": 5,
   "id": "53cde30d-4aba-41a0-a83f-00854a795811",
   "metadata": {},
   "outputs": [],
   "source": [
    "def empty_subjects():\n",
    "    return {\n",
    "        \"updated\" : [],\n",
    "        \"names\" : [],\n",
    "        \"abbreviations\" : [],\n",
    "        \"descriptions\" : [],\n",
    "        \"external_ids\" : [],\n",
    "        \"external_urls\" : [],\n",
    "        \"level\" : None,\n",
    "        \"relations\" : []\n",
    "    }"
   ]
  },
  {
   "cell_type": "code",
   "execution_count": 17,
   "id": "9d3d49f8-bd60-4c44-a538-22c9a0f65e0c",
   "metadata": {},
   "outputs": [],
   "source": [
    "inserted_concepts=[]\n",
    "inserted_concepts_ids_tuples=[]"
   ]
  },
  {
   "cell_type": "code",
   "execution_count": 18,
   "id": "c794aa79-14a2-4041-97c8-fabf8dacb1ee",
   "metadata": {},
   "outputs": [],
   "source": [
    "for sub in openalex[\"concepts\"].find():\n",
    "    #print(sub)\n",
    "    if sub[\"id\"] in inserted_concepts:\n",
    "        continue\n",
    "    entry=empty_subjects()\n",
    "    entry[\"updated\"]=[{\"source\":\"openalex\",\"time\":int(time())}]\n",
    "    sources_inserted_ids=[]\n",
    "    entry[\"external_ids\"].append({\"source\":\"openalex\",\"id\":sub[\"id\"]})\n",
    "    sources_inserted_ids.append(\"openalex\")\n",
    "    for source,idx in sub[\"ids\"].items():\n",
    "        if source in sources_inserted_ids:\n",
    "            continue\n",
    "        entry[\"external_ids\"].append({\"source\":source,\"id\":idx})\n",
    "        sources_inserted_ids.append(source)\n",
    "    entry[\"level\"]=sub[\"level\"]\n",
    "    entry[\"names\"].append({\"name\":sub[\"display_name\"],\"lang\":\"en\"})\n",
    "    inserted_lang_names=[\"en\"]\n",
    "    if sub[\"international\"]:\n",
    "        if sub[\"international\"][\"display_name\"]:\n",
    "            for lang,name in sub[\"international\"][\"display_name\"].items():\n",
    "                if lang in inserted_lang_names:\n",
    "                    continue\n",
    "                entry[\"names\"].append({\"name\":name,\"lang\":lang})\n",
    "                inserted_lang_names.append(lang)\n",
    "    if sub[\"description\"]:\n",
    "        entry[\"descriptions\"].append({\"description\":sub[\"description\"],\"lang\":\"en\"})\n",
    "    if sub[\"wikidata\"]:\n",
    "        entry[\"external_urls\"].append({\"source\":\"wikidata\",\"url\":sub[\"wikidata\"]})\n",
    "    if sub[\"image_url\"]:\n",
    "        entry[\"external_urls\"].append({\"source\":\"image\",\"url\":sub[\"image_url\"]})\n",
    "        \n",
    "    response=colombia[\"subjects\"].insert_one(entry)\n",
    "    inserted_concepts.append(sub[\"id\"])\n",
    "    inserted_concepts_ids_tuples.append((response.inserted_id,sub[\"id\"]))\n",
    "    #print(entry)\n",
    "    #break"
   ]
  },
  {
   "cell_type": "code",
   "execution_count": 24,
   "id": "2067948d-39a9-4c38-bd34-d09d4c111f91",
   "metadata": {},
   "outputs": [],
   "source": [
    "#fix relations on subjects collection\n",
    "for sub in openalex[\"concepts\"].find():\n",
    "    relations=[]\n",
    "    for rel in sub[\"related_concepts\"]:\n",
    "        sub_db=colombia[\"subjects\"].find_one({\"external_ids.id\":rel[\"id\"]})\n",
    "        if sub_db:\n",
    "            rel_entry={\n",
    "                \"id\":sub_db[\"_id\"],\n",
    "                \"names\":sub_db[\"names\"],\n",
    "                \"level\":sub_db[\"level\"]\n",
    "            }\n",
    "            relations.append(rel_entry)\n",
    "        else:\n",
    "            print(\"Could not find related concept in colombia db\")\n",
    "    for rel in sub[\"ancestors\"]:\n",
    "        sub_db=colombia[\"subjects\"].find_one({\"external_ids.id\":rel[\"id\"]})\n",
    "        if sub_db:\n",
    "            rel_entry={\n",
    "                \"id\":sub_db[\"_id\"],\n",
    "                \"names\":sub_db[\"names\"],\n",
    "                \"level\":sub_db[\"level\"]\n",
    "            }\n",
    "            relations.append(rel_entry)\n",
    "        else:\n",
    "            print(\"Could not find related concept in colombia db\")\n",
    "    if len(relations)>0:\n",
    "        pass\n",
    "        #print(relations)\n",
    "        #break\n",
    "        #colombia[\"subjects\"].update_one({\"external_ids.id\":sub[\"id\"]},{\"$set\":{\"relations\":relations}})"
   ]
  },
  {
   "cell_type": "code",
   "execution_count": null,
   "id": "3afef68d-e03d-4638-a5b4-716f4dd736ef",
   "metadata": {},
   "outputs": [],
   "source": [
    "#insert mesh subjects\n",
    "descriptors=list(client[\"openalexco\"][\"works\"].distinct(\"mesh.descriptor_ui\"))\n",
    "inserted=[]\n",
    "for idx in descriptors:\n",
    "    db_openalex=client[\"openalexco\"][\"works\"].find_one({\"mesh.descriptor_ui\":idx})\n",
    "    mesh_openalex=None\n",
    "    if db_openalex:\n",
    "        already=False\n",
    "        for mesh in db_openalex[\"mesh\"]:\n",
    "            if mesh[\"descriptor_ui\"] == idx:\n",
    "                if mesh[\"descriptor_ui\"] in inserted:\n",
    "                    already=True\n",
    "                else:\n",
    "                    mesh_openalex=mesh\n",
    "                break\n",
    "        if already:\n",
    "            continue\n",
    "        else:\n",
    "            inserted.append(idx)\n",
    "            entry=empty_subjects()\n",
    "            entry[\"updated\"]=[{\"source\":\"openalex\",\"time\":int(time())}]\n",
    "            entry [\"names\"].append({\"name\":mesh_openalex[\"descriptor_name\"],\"lang\":\"en\"})\n",
    "            entry[\"external_ids\"].append({\"source\":\"mesh\",\"id\":idx})"
   ]
  },
  {
   "cell_type": "code",
   "execution_count": null,
   "id": "23ac707e-635c-4d3d-8a30-c9e2dba505e1",
   "metadata": {},
   "outputs": [],
   "source": []
  }
 ],
 "metadata": {
  "kernelspec": {
   "display_name": "Python 3 (ipykernel)",
   "language": "python",
   "name": "python3"
  },
  "language_info": {
   "codemirror_mode": {
    "name": "ipython",
    "version": 3
   },
   "file_extension": ".py",
   "mimetype": "text/x-python",
   "name": "python",
   "nbconvert_exporter": "python",
   "pygments_lexer": "ipython3",
   "version": "3.8.10"
  }
 },
 "nbformat": 4,
 "nbformat_minor": 5
}
