{
 "cells": [
  {
   "cell_type": "code",
   "execution_count": 3,
   "id": "968fe534-657e-47ad-a830-5ab0f31e35e8",
   "metadata": {},
   "outputs": [],
   "source": [
    "from pymongo import MongoClient\n",
    "from bson.objectid import ObjectId\n",
    "from bson import json_util\n",
    "from time import time\n",
    "import datetime as dt\n",
    "from dateutil.relativedelta import relativedelta\n",
    "import pandas as pd\n",
    "import numpy as np\n",
    "from fuzzywuzzy import fuzz, process\n",
    "import requests\n",
    "from urllib.parse import unquote\n",
    "import unidecode\n",
    "import re\n",
    "import requests\n",
    "from bs4 import BeautifulSoup\n",
    "import json\n",
    "import pickle\n",
    "import iso3166"
   ]
  },
  {
   "cell_type": "code",
   "execution_count": 4,
   "id": "e15193a1-1040-4ed0-8d59-4a19bd1bed81",
   "metadata": {},
   "outputs": [],
   "source": [
    "class JSONEncoder(json.JSONEncoder):\n",
    "    def default(self, o):\n",
    "        if isinstance(o, ObjectId):\n",
    "            return str(o)\n",
    "        return json.JSONEncoder.default(self, o)"
   ]
  },
  {
   "cell_type": "code",
   "execution_count": 5,
   "id": "f444b004-5397-4f08-b9be-e2a699d7e4e8",
   "metadata": {},
   "outputs": [],
   "source": [
    "client=MongoClient()\n",
    "colombia=client[\"colombia_udea\"]\n",
    "openalex=client[\"openalex\"]\n",
    "doaj=client[\"doaj\"]"
   ]
  },
  {
   "cell_type": "code",
   "execution_count": 16,
   "id": "a6f29fbc-ae68-4953-85b7-7b7fbcb2326e",
   "metadata": {},
   "outputs": [],
   "source": [
    "def empty_source():\n",
    "    return {\n",
    "    \"updated\" : [],\n",
    "\t\"names\" : [],\n",
    "    \"abbreviations\" : [],\n",
    "\t\"types\" : [],\n",
    "\t\"keywords\" : [],\n",
    "    \"languages\" : [],\n",
    "    \"publisher\" : \"\",\n",
    "    \"relations\" : [],\n",
    "    \"addresses\" : [],\n",
    "    \"external_ids\" : [],\n",
    "    \"external_urls\" : [],\n",
    "    \"review_processes\" : [],\n",
    "    \"waiver\" : {},\n",
    "    \"plagiarism_detection\" : False,\n",
    "    \"open_access_start_year\" : None,\n",
    "    \"publication_time_weeks\" : None,\n",
    "    \"apc\":{},\n",
    "    \"copyright\" : {},\n",
    "    \"licenses\" : [],\n",
    "    \"subjects\" : [],\n",
    "\t\"ranking\" : []\n",
    "}\n"
   ]
  },
  {
   "cell_type": "markdown",
   "id": "813aaa53-3191-42e2-98e2-f6a2285a7997",
   "metadata": {},
   "source": [
    "### Inserting DOAJ db and scimago file"
   ]
  },
  {
   "cell_type": "code",
   "execution_count": 25,
   "id": "ee7ddf05-58f7-44af-aaaa-d26473283ffa",
   "metadata": {},
   "outputs": [],
   "source": [
    "doaj=client[\"doaj\"]\n",
    "scimagojr=pd.read_csv(\"/current/data/scimagojr 2021.csv\",sep=\";\",dtype={\"Sourceid\":str})\n",
    "scienti=client[\"scienti_111\"]"
   ]
  },
  {
   "cell_type": "code",
   "execution_count": 51,
   "id": "5b764a05-3bf0-4e73-858c-a55e1561aa2e",
   "metadata": {},
   "outputs": [],
   "source": [
    "sources_inserted=[]"
   ]
  },
  {
   "cell_type": "code",
   "execution_count": 63,
   "id": "4a369640-1f3b-4217-a131-3d6737089f00",
   "metadata": {},
   "outputs": [],
   "source": [
    "with client.start_session() as session:\n",
    "    old=dt.datetime.now()\n",
    "    for oldreg in doaj[\"stage\"].find(no_cursor_timeout=True):\n",
    "        #print(reg[\"_id\"])\n",
    "        if oldreg[\"_id\"] in sources_inserted:\n",
    "            continue\n",
    "        reg=oldreg[\"bibjson\"]\n",
    "        entry = empty_source()\n",
    "        entry[\"updated\"]=[{\"source\":\"doaj\",\"time\":int(time())}]\n",
    "        entry[\"names\"]=[{\"lang\":\"en\",\"name\":reg[\"title\"]}]\n",
    "        entry[\"keywords\"]=reg[\"keywords\"]\n",
    "        entry[\"languages\"]=reg[\"language\"]\n",
    "        entry[\"publisher\"]={\"country_code\":reg[\"publisher\"][\"country\"],\"name\":reg[\"publisher\"][\"name\"]}\n",
    "        entry[\"open_access_start_year\"]=reg[\"oa_start\"] if \"oa_start\" in reg.keys() else None\n",
    "        entry[\"external_urls\"]=[{\"source\":ref,\"url\":url} for ref,url in reg[\"ref\"].items()]\n",
    "        entry[\"review_process\"]=reg[\"editorial\"][\"review_process\"]\n",
    "        entry[\"plagiarism_detection\"]=reg[\"plagiarism\"][\"detection\"]\n",
    "        entry[\"publication_time_weeks\"]=reg[\"publication_time_weeks\"]\n",
    "        entry[\"copyright\"]=reg[\"copyright\"]\n",
    "        entry[\"licenses\"]=reg[\"license\"]\n",
    "        entry[\"addresses\"]\n",
    "\n",
    "        if \"apc\" in reg.keys():\n",
    "            if reg[\"apc\"][\"has_apc\"]:\n",
    "                entry[\"apc\"]={\"charges\":reg[\"apc\"][\"max\"][-1][\"price\"],\"currency\":reg[\"apc\"][\"max\"][-1][\"currency\"]}\n",
    "        subjects_source={}\n",
    "        if \"subject\" in reg.keys():\n",
    "            if reg[\"subject\"]:\n",
    "                for sub in reg[\"subject\"]:\n",
    "                    sub_entry={\n",
    "                        \"id\":\"\",\n",
    "                        \"name\":sub[\"term\"],\n",
    "                        \"external_ids\":[{\"source\":sub[\"scheme\"],\"id\":sub[\"code\"]}]\n",
    "                    }\n",
    "                    if sub[\"scheme\"] in subjects_source.keys():\n",
    "                        subjects_source[sub[\"scheme\"]].append(sub_entry)\n",
    "                    else:\n",
    "                        subjects_source[sub[\"scheme\"]]=[sub_entry]\n",
    "        for source,subs in subjects_source.items():\n",
    "            entry[\"subjects\"].append({\n",
    "                \"source\":source,\n",
    "                \"subjects\":subs\n",
    "            })\n",
    "\n",
    "\n",
    "        sjr=\"\"\n",
    "        found_sjr=False\n",
    "        ids=[]\n",
    "        if \"eissn\" in reg.keys():\n",
    "            reg_db=colombia[\"sources\"].find_one({\"external_ids.id\":reg[\"eissn\"]})\n",
    "            if reg_db:\n",
    "                continue\n",
    "            ids.append(reg[\"eissn\"])\n",
    "            entry[\"external_ids\"].append({\"source\":\"eissn\",\"id\":reg[\"eissn\"]})\n",
    "            sjr=scimagojr[[reg[\"eissn\"].replace(\"-\",\"\") in sjreg[\"Issn\"] for idx,sjreg in scimagojr.iterrows()]]\n",
    "            if len(sjr)>0:\n",
    "                found_sjr=True\n",
    "        if \"pissn\" in reg.keys():\n",
    "            reg_db=colombia[\"sources\"].find_one({\"external_ids.id\":reg[\"pissn\"]})\n",
    "            if reg_db:\n",
    "                continue\n",
    "            ids.append(reg[\"pissn\"])\n",
    "            entry[\"external_ids\"].append({\"source\":\"pissn\",\"id\":reg[\"pissn\"]})\n",
    "            if found_sjr==False:\n",
    "                sjr=scimagojr[[reg[\"pissn\"].replace(\"-\",\"\") in sjreg[\"Issn\"] for idx,sjreg in scimagojr.iterrows()]]\n",
    "                if len(sjr)>0:\n",
    "                    found_sjr=True\n",
    "        if found_sjr:\n",
    "            sjr=sjr.iloc[0]\n",
    "            entry[\"updated\"].append({\"source\":\"scimago\",\"time\":int(time())})\n",
    "            entry[\"external_ids\"].append({\"source\":\"scimago\",\"id\":str(sjr[\"Sourceid\"])})\n",
    "            entry[\"types\"].append({\"source\":\"scimago\",\"type\":sjr[\"Type\"]})\n",
    "            for extid in sjr[\"Issn\"].split(\",\"):\n",
    "                extid=extid.strip()\n",
    "                extid=extid[:4]+\"-\"+extid[4:]\n",
    "                if not extid in ids:\n",
    "                    entry[\"external_ids\"].append({\"source\":\"issn\",\"id\":extid})\n",
    "            entry[\"ranking\"].append({\n",
    "                \"to_date\":1640995199,\n",
    "                \"from_date\":1640995199,\n",
    "                \"rank\":sjr[\"SJR Best Quartile\"],\n",
    "                \"order\":int(sjr[\"Rank\"]) if sjr[\"Rank\"] else None,\n",
    "                \"source\":\"scimago Best Quartile\"\n",
    "            })\n",
    "            entry[\"ranking\"].append({\n",
    "                \"to_date\":1640995199,\n",
    "                \"from_date\":1640995199,\n",
    "                \"rank\":int(sjr[\"H index\"]),\n",
    "                \"order\":int(sjr[\"Rank\"]) if sjr[\"Rank\"] else None,\n",
    "                \"source\":\"scimago hindex\"\n",
    "            })\n",
    "            if sjr[\"SJR\"]:\n",
    "                rank=\"\"\n",
    "                if isinstance(sjr[\"SJR\"],str):\n",
    "                    rank=float(sjr[\"SJR\"].replace(\",\",\".\"))\n",
    "                else:\n",
    "                    rank=sjr[\"SJR\"]\n",
    "                entry[\"ranking\"].append({\n",
    "                    \"to_date\":1640995199,\n",
    "                    \"from_date\":1640995199,\n",
    "                    \"rank\": rank,\n",
    "                    \"order\":int(sjr[\"Rank\"]) if sjr[\"Rank\"] else None,\n",
    "                    \"source\":\"scimago\"\n",
    "                })\n",
    "            scimago_subjects=[]\n",
    "            for cat in sjr[\"Categories\"].split(\";\"):\n",
    "                scimago_subjects.append({\n",
    "                    \"id\":\"\",\n",
    "                    \"name\":cat.split(\" (\")[0],\n",
    "                    \"level\":None,\n",
    "                    \"external_ids\":[]\n",
    "                })\n",
    "            entry[\"subjects\"].append({\n",
    "                \"source\":\"scimago\",\n",
    "                \"subjects\":scimago_subjects\n",
    "            })\n",
    "        found_scienti=False\n",
    "        scienti_reg=None\n",
    "        for idx in ids:\n",
    "            scienti_reg=scienti[\"products\"].find_one({\"details.article.journal.TXT_ISSN_SEP\":idx})\n",
    "            if scienti_reg:\n",
    "                found_scienti=True\n",
    "                break\n",
    "        if found_scienti:\n",
    "            journal_reg=scienti_reg[\"details\"][0][\"article\"][0][\"journal\"][0]\n",
    "            entry[\"updated\"].append({\"source\":\"scienti\",\"time\":int(time())})\n",
    "            entry[\"external_ids\"].append({\"source\":\"scienti\",\"id\":str(journal_reg[\"COD_REVISTA\"])})\n",
    "            if \"TPO_REVISTA\" in journal_reg.keys():\n",
    "                entry[\"types\"].append({\"source\":\"scienti\",\"type\":journal_reg[\"TPO_REVISTA\"]})\n",
    "            if \"TPO_CLASIFICACION\" in journal_reg.keys():\n",
    "                entry[\"ranking\"].append({\n",
    "                    \"to_date\":None,\n",
    "                    \"from_date\":None,\n",
    "                    \"rank\": journal_reg[\"TPO_CLASIFICACION\"],\n",
    "                    \"order\":None,\n",
    "                    \"source\":\"scienti\"\n",
    "                })\n",
    "        \n",
    "        colombia[\"sources\"].insert_one(entry)\n",
    "        sources_inserted.append(oldreg[\"_id\"])\n",
    "        delta=dt.datetime.now()-old\n",
    "        if delta.seconds>240:\n",
    "            print(len(sources_inserted))\n",
    "            client.admin.command('refreshSessions', [session.session_id], session=session)\n",
    "            old=dt.datetime.now()"
   ]
  },
  {
   "cell_type": "code",
   "execution_count": 64,
   "id": "c9fafff8-c729-40a1-89e0-18ae3c35f5ac",
   "metadata": {},
   "outputs": [],
   "source": [
    "#checking if there is some repeated issn\n",
    "repeated_issn=[]\n",
    "for source in colombia[\"sources\"].find():\n",
    "    issn=\"\"\n",
    "    for ext in source[\"external_ids\"]:\n",
    "        issn=ext[\"id\"]\n",
    "        count=colombia[\"sources\"].count_documents({\"external_ids.id\":issn})\n",
    "        if count>1:\n",
    "            repeated_issn.append(issn)\n",
    "            print(\"Repeated_issn: {} {} times\".format(issn,count))\n",
    "            for i in range(count-1):\n",
    "                colombia[\"sources\"].delete_one({\"external_ids.id\":issn})\n",
    "            break"
   ]
  },
  {
   "cell_type": "code",
   "execution_count": 12,
   "id": "73b13839-432f-4ec3-a8f3-88f6f67fbcbb",
   "metadata": {},
   "outputs": [
    {
     "name": "stdout",
     "output_type": "stream",
     "text": [
      "1\n"
     ]
    }
   ],
   "source": [
    "#adding the waiver variable in doaj\n",
    "missing=0\n",
    "with client.start_session() as session:\n",
    "    old=dt.datetime.now()\n",
    "    for reg in doaj[\"stage\"].find():\n",
    "        reg=reg[\"bibjson\"]\n",
    "        reg_db=None\n",
    "        if \"eissn\" in reg.keys():\n",
    "            reg_db=colombia[\"sources\"].find_one({\"external_ids.id\":reg[\"eissn\"]})\n",
    "        if \"pissn\" in reg.keys():\n",
    "            reg_db=colombia[\"sources\"].find_one({\"external_ids.id\":reg[\"pissn\"]})\n",
    "        if reg_db:\n",
    "            colombia[\"sources\"].update_one({\"_id\":reg_db[\"_id\"]},{\"$set\":{\"waiver\":reg[\"waiver\"]}})\n",
    "        else:\n",
    "            missing+=1\n",
    "        delta=dt.datetime.now()-old\n",
    "        if delta.seconds>240:\n",
    "            client.admin.command('refreshSessions', [session.session_id], session=session)\n",
    "            old=dt.datetime.now()\n",
    "print(missing)"
   ]
  },
  {
   "cell_type": "code",
   "execution_count": 17,
   "id": "86e160c0-22a3-42ae-beb1-3be624b34d8d",
   "metadata": {},
   "outputs": [
    {
     "data": {
      "text/plain": [
       "<pymongo.results.UpdateResult at 0x7f8d48047d30>"
      ]
     },
     "execution_count": 17,
     "metadata": {},
     "output_type": "execute_result"
    }
   ],
   "source": [
    "#adding the empty variable for those registers that has no doaj equivalent\n",
    "colombia[\"sources\"].update_many({\"waiver\":{\"$exists\":0}},{\"$set\":{\"waiver\":{}}})"
   ]
  },
  {
   "cell_type": "markdown",
   "id": "c689d181-aaf7-44c1-95f8-51d7d798ebcc",
   "metadata": {},
   "source": [
    "### Inserting from scimago if it is not on doaj"
   ]
  },
  {
   "cell_type": "code",
   "execution_count": 80,
   "id": "65910462-b6cf-4802-9ef5-04f906462961",
   "metadata": {},
   "outputs": [
    {
     "name": "stdout",
     "output_type": "stream",
     "text": [
      "'NoneType' object has no attribute 'alpha2'\n",
      "Vatican City State\n",
      "5972 21333\n"
     ]
    }
   ],
   "source": [
    "already_found=0\n",
    "inserted=0\n",
    "for issn_list in scimagojr[\"Issn\"].unique():\n",
    "    db_found=False\n",
    "    ext_ids=[]\n",
    "    for issn in issn_list.split(\",\"):\n",
    "        issn=issn.strip()\n",
    "        extid=issn[:4]+\"-\"+issn[4:]\n",
    "        db_reg=colombia[\"sources\"].find_one({\"external_ids.id\":extid})\n",
    "        if db_reg:\n",
    "            db_found=True\n",
    "            break\n",
    "        ext_ids.append({\"source\":\"issn\",\"id\":extid})\n",
    "    if db_found:\n",
    "        already_found+=1\n",
    "        continue\n",
    "    entry = empty_source()\n",
    "    entry[\"updated\"]=[{\"source\":\"scimago\",\"time\":int(time())}]\n",
    "    sjr=scimagojr[scimagojr[\"Issn\"]==issn_list]\n",
    "    sjr=sjr.iloc[0]\n",
    "    entry[\"types\"].append({\"source\":\"scimago\",\"type\":sjr[\"Type\"]})\n",
    "    entry[\"external_ids\"]=ext_ids\n",
    "    entry[\"external_ids\"].append({\"source\":\"scimago\",\"id\":int(sjr[\"Sourceid\"])})\n",
    "    entry[\"names\"]=[{\"lang\":\"en\",\"name\":sjr[\"Title\"]}]\n",
    "    country=None\n",
    "    try:\n",
    "        if sjr[\"Country\"]==\"United States\":\n",
    "            sjr[\"Country\"]=\"United States of America\"\n",
    "        elif sjr[\"Country\"]==\"United Kingdom\":\n",
    "            sjr[\"Country\"]=\"United Kingdom of Great Britain and Northern Ireland\"\n",
    "        elif sjr[\"Country\"]==\"South Korea\":\n",
    "            sjr[\"Country\"]=\"Korea, Republic of\"\n",
    "        elif sjr[\"Country\"]==\"Czech Republic\":\n",
    "            sjr[\"Country\"]=\"Czechia\"\n",
    "        elif sjr[\"Country\"]==\"Taiwan\":\n",
    "            sjr[\"Country\"]=\"Taiwan, Province of China\"\n",
    "        elif sjr[\"Country\"]==\"Iran\":\n",
    "            sjr[\"Country\"]=\"Iran, Islamic Republic of\"\n",
    "        elif sjr[\"Country\"]==\"Moldova\":\n",
    "            sjr[\"Country\"]=\"Moldova, Republic of\"\n",
    "        elif sjr[\"Country\"]==\"Venezuela\":\n",
    "            sjr[\"Country\"]=\"Venezuela, Bolivarian Republic of\"\n",
    "        elif sjr[\"Country\"]==\"Macedonia\":\n",
    "            sjr[\"Country\"]=\"North Macedonia\"\n",
    "        elif sjr[\"Country\"]==\"Palestine\":\n",
    "            sjr[\"Country\"]=\"Palestine, State of\"\n",
    "        elif sjr[\"Country\"]==\"Tanzania\":\n",
    "            sjr[\"Country\"]=\"Tanzania, United Republic of\"\n",
    "            \n",
    "        country=iso3166.countries_by_name.get(sjr[\"Country\"].upper()).alpha2\n",
    "    except Exception as e:\n",
    "        print(e)\n",
    "        print(sjr[\"Country\"])\n",
    "    if country:\n",
    "        entry[\"publisher\"]={\"country_code\":country,\"name\":sjr[\"Publisher\"]}\n",
    "    entry[\"ranking\"].append({\n",
    "        \"to_date\":1640995199,\n",
    "        \"from_date\":1640995199,\n",
    "        \"rank\":sjr[\"SJR Best Quartile\"],\n",
    "        \"order\":int(sjr[\"Rank\"]) if sjr[\"Rank\"] else None,\n",
    "        \"source\":\"Scimago Best Quartile\"\n",
    "    })\n",
    "    entry[\"ranking\"].append({\n",
    "        \"to_date\":1640995199,\n",
    "        \"from_date\":1640995199,\n",
    "        \"rank\":int(sjr[\"H index\"]),\n",
    "        \"order\":int(sjr[\"Rank\"]) if sjr[\"Rank\"] else None,\n",
    "        \"source\":\"Scimago hindex\"\n",
    "    })\n",
    "    if sjr[\"SJR\"]:\n",
    "        rank=\"\"\n",
    "        if isinstance(sjr[\"SJR\"],str):\n",
    "            rank=float(sjr[\"SJR\"].replace(\",\",\".\"))\n",
    "        else:\n",
    "            rank=sjr[\"SJR\"]\n",
    "        entry[\"ranking\"].append({\n",
    "            \"to_date\":1640995199,\n",
    "            \"from_date\":1640995199,\n",
    "            \"rank\": rank,\n",
    "            \"order\":int(sjr[\"Rank\"]) if sjr[\"Rank\"] else None,\n",
    "            \"source\":\"Scimago\"\n",
    "        })\n",
    "    scimago_subjects=[]\n",
    "    for cat in sjr[\"Categories\"].split(\";\"):\n",
    "        scimago_subjects.append({\n",
    "            \"id\":\"\",\n",
    "            \"name\":cat.split(\" (\")[0],\n",
    "            \"level\":None,\n",
    "            \"external_ids\":[]\n",
    "        })\n",
    "    entry[\"subjects\"].append({\n",
    "        \"source\":\"Scimago\",\n",
    "        \"subjects\":scimago_subjects\n",
    "    })\n",
    "    #print(entry)\n",
    "    #break\n",
    "    colombia[\"sources\"].insert_one(entry)\n",
    "    inserted+=1\n",
    "print(already_found,inserted)"
   ]
  },
  {
   "cell_type": "markdown",
   "id": "26221d5f-f950-4984-b541-31a1900eb327",
   "metadata": {},
   "source": [
    "### Inserting sources from scienti"
   ]
  },
  {
   "cell_type": "code",
   "execution_count": 86,
   "id": "4b147b83-2ba9-417b-8b62-458e7c39c6fd",
   "metadata": {},
   "outputs": [
    {
     "name": "stdout",
     "output_type": "stream",
     "text": [
      "12502 21333 5967 596\n"
     ]
    }
   ],
   "source": [
    "in_doaj=0\n",
    "in_scimago=0\n",
    "in_doaj_scimago=0\n",
    "in_scienti=0\n",
    "in_scienti_doaj=0\n",
    "in_scienti_scimago=0\n",
    "in_scienti_scimago_doaj=0\n",
    "for reg in colombia[\"sources\"].find():\n",
    "    sources=[]\n",
    "    for up in reg[\"updated\"]:\n",
    "        sources.append(up[\"source\"])\n",
    "    if \"scimago\" in sources and \"doaj\" in sources:\n",
    "        in_doaj_scimago+=1\n",
    "    if \"scimago\" in sources and not \"doaj\" in sources:\n",
    "        in_scimago+=1\n",
    "    if \"doaj\" in sources and not \"scimago\" in sources:\n",
    "        in_doaj+=1\n",
    "for issn in scienti[\"products\"].distinct(\"details.article.journal.TXT_ISSN_REF_SEP\"):\n",
    "    #print(issn)\n",
    "    sources=[\"scienti\"]\n",
    "    reg=colombia[\"sources\"].find_one({\"external_ids.id\":issn})\n",
    "    if reg:\n",
    "        for up in reg[\"updated\"]:\n",
    "            sources.append(up[\"source\"])\n",
    "        if \"scimago\" in sources and \"doaj\" in sources:\n",
    "            in_scienti_scimago_doaj+=1\n",
    "        if \"scimago\" in sources:\n",
    "            in_scienti_scimago+=1\n",
    "        if \"doaj\" in sources:\n",
    "            in_scienti_doaj+=1\n",
    "    else:\n",
    "        in_scienti+=1\n",
    "print(in_doaj,in_scimago,in_doaj_scimago,in_scienti)"
   ]
  },
  {
   "cell_type": "code",
   "execution_count": 90,
   "id": "9106317a-84e4-45c1-9753-8cb9de141f01",
   "metadata": {},
   "outputs": [],
   "source": [
    "import matplotlib.pyplot as plt\n",
    "from matplotlib_venn import venn3"
   ]
  },
  {
   "cell_type": "code",
   "execution_count": 92,
   "id": "a38caf40-eb08-4c1b-89d3-e9702165d331",
   "metadata": {},
   "outputs": [
    {
     "data": {
      "image/png": "[encoded data removed]",
      "text/plain": [
       "<Figure size 640x480 with 1 Axes>"
      ]
     },
     "metadata": {},
     "output_type": "display_data"
    }
   ],
   "source": [
    "def venn_diagram(a, b, c, labels=['doaj', 'scimago', 'scienti']):\n",
    "\n",
    "    a = set(a)\n",
    "    b = set(b)\n",
    "    c = set(c)\n",
    "\n",
    "    only_a = in_doaj\n",
    "    only_b = in_scimago\n",
    "    only_c = in_scienti\n",
    "\n",
    "    only_a_b = in_doaj_scimago\n",
    "    only_a_c = in_doaj_scimago\n",
    "    only_b_c = in_scienti_scimago\n",
    "\n",
    "    a_b_c = in_scienti_scimago_doaj\n",
    "\n",
    "    venn3(subsets=(only_a, only_b, only_a_b, only_c, only_a_c, only_b_c, a_b_c), set_labels=labels)\n",
    "\n",
    "a, b, c = np.round(np.random.rand(3, 50000), 5)\n",
    "venn_diagram(a, b, c)"
   ]
  },
  {
   "cell_type": "code",
   "execution_count": null,
   "id": "e3957377-fb95-4da8-ab5f-6c574e884c62",
   "metadata": {},
   "outputs": [],
   "source": []
  },
  {
   "cell_type": "markdown",
   "id": "701e1d49-333f-4d6f-9781-3a24c151b4c2",
   "metadata": {},
   "source": [
    "### Inserting sources from openalex"
   ]
  },
  {
   "cell_type": "code",
   "execution_count": 4,
   "id": "8c28c918-fea4-4daf-b4ea-52dd1c04d681",
   "metadata": {},
   "outputs": [
    {
     "name": "stdout",
     "output_type": "stream",
     "text": [
      "{'_id': ObjectId('63c6ff77e4cc32ff5aef2fed'), 'id': 'https://openalex.org/V4306480745', 'issn_l': None, 'issn': None, 'display_name': 'The Moreton Bay Foundation eBooks', 'publisher': 'The Moreton Bay Foundation', 'works_count': 17, 'cited_by_count': 0, 'is_oa': None, 'is_in_doaj': None, 'alternate_titles': [], 'abbreviated_title': None, 'homepage_url': None, 'country_code': None, 'ids': {'openalex': 'https://openalex.org/V4306480745'}, 'type': 'ebook platform', 'apc_usd': None, 'societies': [], 'counts_by_year': [{'year': 2019, 'works_count': 17, 'cited_by_count': 0}], 'x_concepts': [{'id': 'https://openalex.org/C86803240', 'wikidata': 'https://www.wikidata.org/wiki/Q420', 'display_name': 'Biology', 'level': 0, 'score': 100.0}, {'id': 'https://openalex.org/C205649164', 'wikidata': 'https://www.wikidata.org/wiki/Q1071', 'display_name': 'Geography', 'level': 0, 'score': 100.0}, {'id': 'https://openalex.org/C95457728', 'wikidata': 'https://www.wikidata.org/wiki/Q309', 'display_name': 'History', 'level': 0, 'score': 94.1}, {'id': 'https://openalex.org/C166957645', 'wikidata': 'https://www.wikidata.org/wiki/Q23498', 'display_name': 'Archaeology', 'level': 1, 'score': 94.1}, {'id': 'https://openalex.org/C18903297', 'wikidata': 'https://www.wikidata.org/wiki/Q7150', 'display_name': 'Ecology', 'level': 1, 'score': 94.1}, {'id': 'https://openalex.org/C127313418', 'wikidata': 'https://www.wikidata.org/wiki/Q1069', 'display_name': 'Geology', 'level': 0, 'score': 88.2}, {'id': 'https://openalex.org/C39432304', 'wikidata': 'https://www.wikidata.org/wiki/Q188847', 'display_name': 'Environmental science', 'level': 0, 'score': 88.2}, {'id': 'https://openalex.org/C111368507', 'wikidata': 'https://www.wikidata.org/wiki/Q43518', 'display_name': 'Oceanography', 'level': 1, 'score': 88.2}, {'id': 'https://openalex.org/C147176958', 'wikidata': 'https://www.wikidata.org/wiki/Q77590', 'display_name': 'Civil engineering', 'level': 1, 'score': 88.2}, {'id': 'https://openalex.org/C115880899', 'wikidata': 'https://www.wikidata.org/wiki/Q1124247', 'display_name': 'Bay', 'level': 2, 'score': 88.2}, {'id': 'https://openalex.org/C127413603', 'wikidata': 'https://www.wikidata.org/wiki/Q11023', 'display_name': 'Engineering', 'level': 0, 'score': 88.2}, {'id': 'https://openalex.org/C162324750', 'wikidata': 'https://www.wikidata.org/wiki/Q8134', 'display_name': 'Economics', 'level': 0, 'score': 58.8}, {'id': 'https://openalex.org/C505870484', 'wikidata': 'https://www.wikidata.org/wiki/Q180538', 'display_name': 'Fishery', 'level': 1, 'score': 58.8}, {'id': 'https://openalex.org/C107826830', 'wikidata': 'https://www.wikidata.org/wiki/Q929380', 'display_name': 'Environmental resource management', 'level': 1, 'score': 52.9}, {'id': 'https://openalex.org/C91375879', 'wikidata': 'https://www.wikidata.org/wiki/Q15473274', 'display_name': 'Environmental planning', 'level': 1, 'score': 47.1}, {'id': 'https://openalex.org/C17744445', 'wikidata': 'https://www.wikidata.org/wiki/Q36442', 'display_name': 'Political science', 'level': 0, 'score': 41.2}, {'id': 'https://openalex.org/C199539241', 'wikidata': 'https://www.wikidata.org/wiki/Q7748', 'display_name': 'Law', 'level': 1, 'score': 41.2}, {'id': 'https://openalex.org/C151730666', 'wikidata': 'https://www.wikidata.org/wiki/Q7205', 'display_name': 'Paleontology', 'level': 1, 'score': 35.3}, {'id': 'https://openalex.org/C110872660', 'wikidata': 'https://www.wikidata.org/wiki/Q37813', 'display_name': 'Ecosystem', 'level': 2, 'score': 35.3}, {'id': 'https://openalex.org/C144133560', 'wikidata': 'https://www.wikidata.org/wiki/Q4830453', 'display_name': 'Business', 'level': 0, 'score': 29.4}, {'id': 'https://openalex.org/C41008148', 'wikidata': 'https://www.wikidata.org/wiki/Q21198', 'display_name': 'Computer science', 'level': 0, 'score': 29.4}, {'id': 'https://openalex.org/C178790620', 'wikidata': 'https://www.wikidata.org/wiki/Q11351', 'display_name': 'Organic chemistry', 'level': 1, 'score': 23.5}, {'id': 'https://openalex.org/C185592680', 'wikidata': 'https://www.wikidata.org/wiki/Q2329', 'display_name': 'Chemistry', 'level': 0, 'score': 23.5}, {'id': 'https://openalex.org/C144024400', 'wikidata': 'https://www.wikidata.org/wiki/Q21201', 'display_name': 'Sociology', 'level': 0, 'score': 23.5}, {'id': 'https://openalex.org/C185933670', 'wikidata': 'https://www.wikidata.org/wiki/Q52105', 'display_name': 'Habitat', 'level': 2, 'score': 23.5}, {'id': 'https://openalex.org/C71924100', 'wikidata': 'https://www.wikidata.org/wiki/Q11190', 'display_name': 'Medicine', 'level': 0, 'score': 23.5}], 'works_api_url': 'https://api.openalex.org/works?filter=host_venue.id:V4306480745', 'updated_date': '2022-11-11T01:37:51.580027', 'created_date': '2022-10-17'}\n"
     ]
    }
   ],
   "source": [
    "for source in openalex[\"venues\"].find():\n",
    "    print(source)\n",
    "    break"
   ]
  }
 ],
 "metadata": {
  "kernelspec": {
   "display_name": "Python 3 (ipykernel)",
   "language": "python",
   "name": "python3"
  },
  "language_info": {
   "codemirror_mode": {
    "name": "ipython",
    "version": 3
   },
   "file_extension": ".py",
   "mimetype": "text/x-python",
   "name": "python",
   "nbconvert_exporter": "python",
   "pygments_lexer": "ipython3",
   "version": "3.8.10"
  }
 },
 "nbformat": 4,
 "nbformat_minor": 5
}
